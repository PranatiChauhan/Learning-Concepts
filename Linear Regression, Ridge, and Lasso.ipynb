{
 "cells": [
  {
   "cell_type": "code",
   "execution_count": 47,
   "id": "medical-evanescence",
   "metadata": {},
   "outputs": [],
   "source": [
    "#We will load the Boston housing dataset first\n",
    "from sklearn.datasets import load_boston\n",
    "from sklearn.preprocessing import MinMaxScaler, PolynomialFeatures\n",
    "from sklearn.model_selection import train_test_split\n",
    "boston = load_boston()\n",
    "X = boston.data #get the features\n",
    "y = boston.target #the target to be predicted\n",
    "\n",
    "\n",
    "\n"
   ]
  },
  {
   "cell_type": "code",
   "execution_count": 5,
   "id": "proper-movement",
   "metadata": {},
   "outputs": [],
   "source": [
    "#let us split the data into train and test sets\n",
    "x_train, x_test, y_train, y_test = train_test_split(X, y, test_size = 0.2,\n",
    "                                                   random_state = 18)\n"
   ]
  },
  {
   "cell_type": "code",
   "execution_count": 7,
   "id": "aa80283b",
   "metadata": {},
   "outputs": [
    {
     "data": {
      "text/plain": [
       "((404, 13), (102, 13))"
      ]
     },
     "execution_count": 7,
     "metadata": {},
     "output_type": "execute_result"
    }
   ],
   "source": [
    "x_train.shape, x_test.shape"
   ]
  },
  {
   "cell_type": "code",
   "execution_count": 6,
   "id": "845738d1",
   "metadata": {},
   "outputs": [],
   "source": [
    "#Scale the data\n",
    "#let us scale the data using a MinMaxScaler\n",
    "scaler = MinMaxScaler()\n",
    "scaler.fit(x_train)\n",
    "x_train = scaler.transform(x_train)\n",
    "x_test = scaler.transform(x_test) #VERY IMPORTANT - do not fit on x_test\n",
    "\n"
   ]
  },
  {
   "cell_type": "code",
   "execution_count": 8,
   "id": "54d225a5",
   "metadata": {},
   "outputs": [],
   "source": [
    "#let us make the data set more complex by adding some polynomial terms\n",
    "poly = PolynomialFeatures(degree=2, include_bias=False)\n",
    "poly.fit(x_train)\n",
    "x_train = poly.transform(x_train)\n",
    "x_test = poly.transform(x_test)"
   ]
  },
  {
   "cell_type": "code",
   "execution_count": 9,
   "id": "c9b4e200",
   "metadata": {},
   "outputs": [
    {
     "data": {
      "text/plain": [
       "((404, 104), (102, 104))"
      ]
     },
     "execution_count": 9,
     "metadata": {},
     "output_type": "execute_result"
    }
   ],
   "source": [
    "x_train.shape, x_test.shape"
   ]
  },
  {
   "cell_type": "markdown",
   "id": "cef9d57b",
   "metadata": {},
   "source": [
    "Note that the number of columns has increased from 13 to 104. Also, notice that we have only 404 observations. What do you think will happen? Will it overfit or underfit?"
   ]
  },
  {
   "cell_type": "code",
   "execution_count": 10,
   "id": "musical-machine",
   "metadata": {},
   "outputs": [
    {
     "name": "stdout",
     "output_type": "stream",
     "text": [
      "Training score:  0.9429748697596014\n",
      "Test score:  0.8009416011659013\n"
     ]
    }
   ],
   "source": [
    "from sklearn.linear_model import LinearRegression\n",
    "model = LinearRegression()\n",
    "model.fit(x_train, y_train)\n",
    "print(\"Training score: \", model.score(x_train, y_train)) #model.score displays R-Square\n",
    "print(\"Test score: \", model.score(x_test, y_test))"
   ]
  },
  {
   "cell_type": "code",
   "execution_count": 12,
   "id": "42a8ba01",
   "metadata": {},
   "outputs": [
    {
     "name": "stdout",
     "output_type": "stream",
     "text": [
      "Training score:  4.741817667724283\n",
      "Test score:  17.763307218643984\n"
     ]
    }
   ],
   "source": [
    "#let us try a different metric\n",
    "from sklearn.metrics import mean_squared_error\n",
    "#To use mean_squared_error, you need to predict values\n",
    "y_train_pred = model.predict(x_train) #predicted values for x_train\n",
    "y_test_pred = model.predict(x_test) #predicted values for x_test\n",
    "print(\"Training score: \", mean_squared_error(y_train, y_train_pred)) #model.score displays R-Square\n",
    "print(\"Test score: \", mean_squared_error(y_test, y_test_pred))"
   ]
  },
  {
   "cell_type": "code",
   "execution_count": 13,
   "id": "71d31ebb",
   "metadata": {},
   "outputs": [
    {
     "data": {
      "text/plain": [
       "5.10632131057077"
      ]
     },
     "execution_count": 13,
     "metadata": {},
     "output_type": "execute_result"
    }
   ],
   "source": [
    "#Let us look at the intercept\n",
    "model.intercept_"
   ]
  },
  {
   "cell_type": "code",
   "execution_count": 14,
   "id": "8d567e25",
   "metadata": {},
   "outputs": [
    {
     "data": {
      "text/plain": [
       "array([-3.33062161e+02, -3.44804853e+01, -6.81835513e+01,  1.53103328e+01,\n",
       "       -5.82710355e+00,  6.98435737e+01,  3.60183457e+01, -4.66929235e+01,\n",
       "        3.59806054e+01,  7.73700748e+00, -6.75111830e+00, -2.70725170e-01,\n",
       "        4.67382078e-01,  2.05025548e+01,  3.17210888e+03, -2.13072756e+02,\n",
       "        1.79508545e+02, -6.27952911e+01,  5.22765000e+01, -3.20429653e+01,\n",
       "       -1.30327832e+02, -8.74903024e+02,  1.34199473e+03,  1.18343252e+02,\n",
       "       -1.30337750e+01,  9.93858965e+01, -8.12292973e+00, -1.75420544e+01,\n",
       "       -9.57165256e+00, -4.94939290e+01,  1.33964814e+01,  1.52040470e+00,\n",
       "        1.46980654e+00, -1.32016858e+01,  3.32926562e+01, -7.99046265e+00,\n",
       "        4.02724308e+01, -1.77855728e+01,  3.19720529e+01,  9.60268471e-01,\n",
       "        1.02388173e+01,  3.59852885e+01,  5.70793791e+00,  1.55837573e+01,\n",
       "       -2.47396640e+01,  4.08256214e+00, -8.15271150e+00,  3.45719219e+01,\n",
       "       -3.33791491e+01,  1.53103328e+01, -2.99168461e+01, -3.54867572e+01,\n",
       "        5.71360064e+00,  1.17096789e+01, -9.45735678e+00,  2.19223630e+01,\n",
       "       -1.34231320e+01,  8.60502892e-01, -1.46145806e+01, -1.00571462e+01,\n",
       "        1.35776406e+01, -1.10829651e+01,  8.10930239e+01, -2.34273136e+01,\n",
       "        4.77845040e+01, -4.26381636e+01, -1.37582856e+00,  3.40120876e+01,\n",
       "        8.71115660e+00, -3.40165981e+01, -9.28137154e-01, -5.96337774e-01,\n",
       "       -6.80200806e+01, -1.71159960e+01, -2.96635229e+00, -1.93673082e+01,\n",
       "        1.07456697e+00,  1.60968185e-01,  3.58798585e+01, -3.07779489e+01,\n",
       "       -9.04325440e-01, -1.94708713e+01, -2.11503563e+01,  3.13620738e+01,\n",
       "       -1.47754269e+01, -3.14745172e+01, -1.01859484e+01,  6.59909032e+00,\n",
       "        3.77751980e+01, -6.27551274e+01,  1.00141651e+02, -7.43253185e+00,\n",
       "       -2.38358419e+01, -3.72066413e+01, -2.75281651e+01,  2.75349164e+01,\n",
       "        1.49279995e+01,  5.78572097e+00,  2.70437642e+00,  2.05136915e+01,\n",
       "        3.34470838e+00, -5.29966129e+00, -2.41635340e+00,  2.10573594e+01])"
      ]
     },
     "execution_count": 14,
     "metadata": {},
     "output_type": "execute_result"
    }
   ],
   "source": [
    "#Coefficients of the 104 features\n",
    "model.coef_"
   ]
  },
  {
   "attachments": {},
   "cell_type": "markdown",
   "id": "1a1e6e0f",
   "metadata": {},
   "source": [
    "It is clear that it is overfitting. Let us try Ridge and Lasso. Note that Ridge uses L2 norm and Lasso uses L1 norm\n"
   ]
  },
  {
   "cell_type": "code",
   "execution_count": 15,
   "id": "f378f425",
   "metadata": {},
   "outputs": [
    {
     "name": "stdout",
     "output_type": "stream",
     "text": [
      "Training score:  0.8691865636837661\n",
      "Test score:  0.8058389758289868\n"
     ]
    }
   ],
   "source": [
    "from sklearn.linear_model import Ridge\n",
    "\n",
    "#Ridge uses a parameter called alpha to contol the complexity of the model\n",
    "\n",
    "model = Ridge() #default alpha is 1. Increase alpha to simplify the model and decrease it to make the model more complex\n",
    "model.fit(x_train, y_train)\n",
    "print(\"Training score: \", model.score(x_train, y_train)) #model.score displays R-Square\n",
    "print(\"Test score: \", model.score(x_test, y_test))\n"
   ]
  },
  {
   "cell_type": "markdown",
   "id": "34bf1477",
   "metadata": {},
   "source": [
    "Notice tha alpha = 1 is not simplifying the model. Let us try alpha = 10"
   ]
  },
  {
   "cell_type": "code",
   "execution_count": 16,
   "id": "ef108a4b",
   "metadata": {},
   "outputs": [
    {
     "name": "stdout",
     "output_type": "stream",
     "text": [
      "Training score:  0.7708606147366355\n",
      "Test score:  0.710682515912249\n"
     ]
    }
   ],
   "source": [
    "model = Ridge(alpha = 10) #default alpha is 1. Increase alpha to simplify the model and decrease it to make the model more complex\n",
    "model.fit(x_train, y_train)\n",
    "print(\"Training score: \", model.score(x_train, y_train)) #model.score displays R-Square\n",
    "print(\"Test score: \", model.score(x_test, y_test))"
   ]
  },
  {
   "cell_type": "markdown",
   "id": "e3b3bb57",
   "metadata": {},
   "source": [
    "You can see that it has simplified the model and made it more biased. Hence the low scores for both train and test. We need to lower alpha. Let us try 2."
   ]
  },
  {
   "cell_type": "code",
   "execution_count": 22,
   "id": "17f0ffc0",
   "metadata": {},
   "outputs": [
    {
     "name": "stdout",
     "output_type": "stream",
     "text": [
      "Training score:  0.8456632174524317\n",
      "Test score:  0.7836552986909678\n"
     ]
    }
   ],
   "source": [
    "model = Ridge(alpha = 2) #default alpha is 1. Increase alpha to simplify the model and decrease it to make the model more complex\n",
    "model.fit(x_train, y_train)\n",
    "print(\"Training score: \", model.score(x_train, y_train)) #model.score displays R-Square\n",
    "print(\"Test score: \", model.score(x_test, y_test))"
   ]
  },
  {
   "cell_type": "code",
   "execution_count": 33,
   "id": "26b9d377",
   "metadata": {},
   "outputs": [
    {
     "name": "stdout",
     "output_type": "stream",
     "text": [
      "Training score:  0.9365499481731728\n",
      "Test score:  0.8145748082012485\n"
     ]
    }
   ],
   "source": [
    "#What happens if we try a low value of alpha\n",
    "model = Ridge(alpha = 0.008) #default alpha is 1. Increase alpha to simplify the model and decrease it to make the model more complex\n",
    "model.fit(x_train, y_train)\n",
    "print(\"Training score: \", model.score(x_train, y_train)) #model.score displays R-Square\n",
    "print(\"Test score: \", model.score(x_test, y_test))"
   ]
  },
  {
   "cell_type": "code",
   "execution_count": 35,
   "id": "4e550700",
   "metadata": {},
   "outputs": [
    {
     "name": "stdout",
     "output_type": "stream",
     "text": [
      "Training score:  0.22698789837112943\n",
      "Test score:  0.1965668087360748\n"
     ]
    }
   ],
   "source": [
    "#let us try Lasso. Note that Lasso may reduce some of the beta values to zero, thereby eliminating those features\n",
    "from sklearn.linear_model import Lasso\n",
    "model = Lasso() #use default alpha of 1\n",
    "model.fit(x_train, y_train)\n",
    "print(\"Training score: \", model.score(x_train, y_train)) #model.score displays R-Square\n",
    "print(\"Test score: \", model.score(x_test, y_test))"
   ]
  },
  {
   "cell_type": "markdown",
   "id": "6b6e242a",
   "metadata": {},
   "source": [
    "OOPS! What do we have here? It is highly biased. Why is it highly biased? Check the coefficients to see how many weights were reduced to 0. "
   ]
  },
  {
   "cell_type": "code",
   "execution_count": 36,
   "id": "a5688df4",
   "metadata": {},
   "outputs": [
    {
     "data": {
      "text/plain": [
       "array([-0.        ,  0.        , -0.        ,  0.        , -0.        ,\n",
       "        0.        , -0.        ,  0.        , -0.        , -0.        ,\n",
       "       -0.        ,  0.        , -3.70947419, -0.        ,  0.        ,\n",
       "       -0.        ,  0.        , -0.        , -0.        , -0.        ,\n",
       "       -0.        , -0.        , -0.        , -0.        , -0.        ,\n",
       "       -0.        ,  0.        ,  0.        ,  0.        ,  0.        ,\n",
       "        0.        ,  0.        ,  0.        ,  0.        ,  0.        ,\n",
       "        0.        ,  0.        ,  0.        , -0.        ,  0.        ,\n",
       "       -0.        , -0.        , -0.        , -0.        , -0.        ,\n",
       "       -0.        , -0.        , -0.        , -0.        ,  0.        ,\n",
       "        0.        ,  0.        ,  0.        ,  0.        ,  0.        ,\n",
       "        0.        ,  0.        ,  0.        ,  0.        , -0.        ,\n",
       "       -0.        , -0.        , -0.        , -0.        , -0.        ,\n",
       "       -0.        , -0.        , -0.        ,  0.        ,  0.        ,\n",
       "        0.        , -0.        , -0.        , -0.        ,  0.        ,\n",
       "       -0.        , -0.        ,  0.        , -0.        , -0.        ,\n",
       "       -2.96755436, -0.        , -0.        ,  0.        , -0.        ,\n",
       "       -0.        , -0.        ,  0.        , -0.        , -1.18648545,\n",
       "       -0.        , -0.        , -0.        , -0.        , -0.        ,\n",
       "       -0.        , -0.        , -0.        , -0.        , -0.        ,\n",
       "       -0.        ,  0.        , -0.        , -0.        ])"
      ]
     },
     "execution_count": 36,
     "metadata": {},
     "output_type": "execute_result"
    }
   ],
   "source": [
    "model.coef_"
   ]
  },
  {
   "cell_type": "code",
   "execution_count": 37,
   "id": "a0627b59",
   "metadata": {},
   "outputs": [
    {
     "name": "stdout",
     "output_type": "stream",
     "text": [
      "Training score:  0.745948246051797\n",
      "Test score:  0.7182557308778088\n"
     ]
    }
   ],
   "source": [
    "#Let us reduce alpha and see if we can better results\n",
    "model = Lasso(alpha = 0.1) #use default alpha of 1\n",
    "model.fit(x_train, y_train)\n",
    "print(\"Training score: \", model.score(x_train, y_train)) #model.score displays R-Square\n",
    "print(\"Test score: \", model.score(x_test, y_test))"
   ]
  },
  {
   "cell_type": "code",
   "execution_count": 42,
   "id": "8a2918f2",
   "metadata": {},
   "outputs": [
    {
     "name": "stdout",
     "output_type": "stream",
     "text": [
      "Training score:  0.9306948441227001\n",
      "Test score:  0.8151804832854133\n"
     ]
    }
   ],
   "source": [
    "#Much better, but it is still biased\n",
    "model = Lasso(alpha = 0.001, max_iter = 100000) #use default alpha of 1\n",
    "model.fit(x_train, y_train)\n",
    "print(\"Training score: \", model.score(x_train, y_train)) #model.score displays R-Square\n",
    "print(\"Test score: \", model.score(x_test, y_test))"
   ]
  },
  {
   "cell_type": "code",
   "execution_count": 43,
   "id": "7fcde115",
   "metadata": {},
   "outputs": [
    {
     "name": "stdout",
     "output_type": "stream",
     "text": [
      "Training score:  0.2820282314170368\n",
      "Test score:  0.24903751018507392\n"
     ]
    }
   ],
   "source": [
    "#Let us try a combination of Lasso and Ridge called ElasticNet\n",
    "from sklearn.linear_model import ElasticNet\n",
    "model = ElasticNet() #uses default alpha of 1 and l1_ratio is 0.5. l1_raio determines the proprotion of L2 and L1\n",
    "model.fit(x_train, y_train)\n",
    "print(\"Training score: \", model.score(x_train, y_train)) #model.score displays R-Square\n",
    "print(\"Test score: \", model.score(x_test, y_test))"
   ]
  },
  {
   "cell_type": "code",
   "execution_count": 44,
   "id": "495e7fbd",
   "metadata": {},
   "outputs": [
    {
     "name": "stdout",
     "output_type": "stream",
     "text": [
      "Training score:  0.9047746864659986\n",
      "Test score:  0.8279581121649763\n"
     ]
    }
   ],
   "source": [
    "model = ElasticNet(alpha = 0.001, max_iter = 100000) #uses default alpha of 1 and l1_ratio is 0.5. l1_raio determines the proprotion of L2 and L1\n",
    "model.fit(x_train, y_train)\n",
    "print(\"Training score: \", model.score(x_train, y_train)) #model.score displays R-Square\n",
    "print(\"Test score: \", model.score(x_test, y_test))"
   ]
  },
  {
   "cell_type": "code",
   "execution_count": 46,
   "id": "b823e8e2",
   "metadata": {},
   "outputs": [
    {
     "data": {
      "text/plain": [
       "array([ -2.56706464,  -3.83552541,   0.        ,   4.71941363,\n",
       "         4.41659265,  16.52913246,   1.61085278,  -8.71727653,\n",
       "        10.09208248,   0.51834593,  -1.60832654,   4.65419655,\n",
       "        -2.05516037,   5.4569818 ,   0.        ,  -1.13249715,\n",
       "         4.19819925,  -1.53661998,  -0.        ,  -2.38461017,\n",
       "        -0.        ,  -2.94994094,  -2.39632384,  -2.12472694,\n",
       "        -3.14715153,   0.        ,   1.70961824,  -2.70752971,\n",
       "         3.18110828,   0.0406853 ,   7.68269154,  -1.69158271,\n",
       "        -1.29365194,  -0.        ,   2.85220474,   2.00972651,\n",
       "        -1.23727911,  -2.71142707,   4.08919216,   6.95325618,\n",
       "         4.04686611,  -2.26183693,   4.40467748,  -5.36095723,\n",
       "         1.84353853,   1.90031478,  -4.42446212,   0.29445724,\n",
       "        -9.297921  ,   4.72002753, -16.01419756, -14.69914637,\n",
       "         6.97823828,  -2.28220412,   3.45418296,   6.12663608,\n",
       "        -1.17467283,   0.        , -10.0347709 ,  -3.12619296,\n",
       "        -3.54511021,  -4.8359633 ,  -0.        ,  -4.16463104,\n",
       "        -1.66224084,  -3.48082536,   0.        ,   0.        ,\n",
       "        20.12862961,  -3.74902644,   3.82088239, -13.88983079,\n",
       "       -15.71826075, -11.79997489,  11.38046419,  -6.33476122,\n",
       "         0.        ,   0.76453269,   6.61812196,  -0.50920177,\n",
       "        -2.49918936,  -1.84009863,  -6.26692163,   4.96779801,\n",
       "        -1.87048466,  -5.29876217,   0.55018194,  -4.78355024,\n",
       "         3.86617586,  -2.96746928,   1.19088375,   4.6475287 ,\n",
       "         0.87223016, -10.60725762,  -0.91853326,  10.00253895,\n",
       "        -0.32635437, -12.17644816,   2.38686535,  -1.20930908,\n",
       "         0.85742285,  -1.45699424,  -8.49167013,  20.37928169])"
      ]
     },
     "execution_count": 46,
     "metadata": {},
     "output_type": "execute_result"
    }
   ],
   "source": [
    "model.coef_"
   ]
  },
  {
   "cell_type": "markdown",
   "id": "e3c0c7c4",
   "metadata": {},
   "source": [
    "Play around with the values and see what you get. Remove the higher order  polynomials and see if you can build a model with better R-Square values."
   ]
  }
 ],
 "metadata": {
  "kernelspec": {
   "display_name": "Python 3",
   "language": "python",
   "name": "python3"
  },
  "language_info": {
   "codemirror_mode": {
    "name": "ipython",
    "version": 3
   },
   "file_extension": ".py",
   "mimetype": "text/x-python",
   "name": "python",
   "nbconvert_exporter": "python",
   "pygments_lexer": "ipython3",
   "version": "3.9.4"
  }
 },
 "nbformat": 4,
 "nbformat_minor": 5
}
