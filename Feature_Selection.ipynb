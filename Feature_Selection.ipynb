{
 "cells": [
  {
   "cell_type": "markdown",
   "id": "9201950f",
   "metadata": {},
   "source": [
    "These examples are adapted from the book \"Introduction to Machine Learning with Python using Mueller & Guido\n",
    "See the following GitHub site: https://github.com/amueller/introduction_to_ml_with_python"
   ]
  },
  {
   "cell_type": "code",
   "execution_count": 1,
   "id": "e0c22c8a",
   "metadata": {},
   "outputs": [],
   "source": [
    "from sklearn.datasets import load_breast_cancer\n",
    "from sklearn.feature_selection import SelectPercentile\n",
    "from sklearn.model_selection import train_test_split\n",
    "import numpy as np\n",
    "cancer = load_breast_cancer()"
   ]
  },
  {
   "cell_type": "code",
   "execution_count": 3,
   "id": "56919aa8",
   "metadata": {},
   "outputs": [
    {
     "data": {
      "text/plain": [
       "dict_keys(['data', 'target', 'frame', 'target_names', 'DESCR', 'feature_names', 'filename', 'data_module'])"
      ]
     },
     "execution_count": 3,
     "metadata": {},
     "output_type": "execute_result"
    }
   ],
   "source": [
    "cancer.keys()"
   ]
  },
  {
   "cell_type": "code",
   "execution_count": 6,
   "id": "e8318354",
   "metadata": {},
   "outputs": [
    {
     "data": {
      "text/plain": [
       "30"
      ]
     },
     "execution_count": 6,
     "metadata": {},
     "output_type": "execute_result"
    }
   ],
   "source": [
    "#Number of features in the dataset\n",
    "len(cancer['feature_names'])"
   ]
  },
  {
   "cell_type": "code",
   "execution_count": 9,
   "id": "8ed6f906",
   "metadata": {},
   "outputs": [],
   "source": [
    "#We will add some random columns - noise - the features\n",
    "random_numbers = np.random.RandomState(99)\n",
    "noisy_features = random_numbers.normal(size = (len(cancer.data), 50)) #adding 50 \"noisy\" features\n",
    "x_with_noise = np.hstack([cancer.data, noisy_features] ) #add the 50 noisy columns to the original 30 features"
   ]
  },
  {
   "cell_type": "code",
   "execution_count": 10,
   "id": "bf8196df",
   "metadata": {},
   "outputs": [
    {
     "data": {
      "text/plain": [
       "(569, 80)"
      ]
     },
     "execution_count": 10,
     "metadata": {},
     "output_type": "execute_result"
    }
   ],
   "source": [
    "x_with_noise.shape"
   ]
  },
  {
   "cell_type": "code",
   "execution_count": 11,
   "id": "90553ad2",
   "metadata": {},
   "outputs": [],
   "source": [
    "x_train, x_test, y_train, y_test = train_test_split(\n",
    "    x_with_noise, cancer.target, random_state=0, test_size=.3)\n",
    "\n",
    "# use f_classif (the default) and SelectPercentile to select 40% of features\n",
    "\n",
    "select = SelectPercentile(percentile=40)\n",
    "select.fit(x_train, y_train)\n",
    "# transform training set\n",
    "x_train_selected = select.transform(x_train)\n"
   ]
  },
  {
   "cell_type": "code",
   "execution_count": 12,
   "id": "39afdc7e",
   "metadata": {},
   "outputs": [
    {
     "name": "stdout",
     "output_type": "stream",
     "text": [
      "Original Dataset: (398, 80)\n",
      "Reduced Feature Dataset: (398, 32)\n"
     ]
    }
   ],
   "source": [
    "#How many features did it select?\n",
    "print(\"Original Dataset:\", x_train.shape)\n",
    "print(\"Reduced Feature Dataset:\", x_train_selected.shape)"
   ]
  },
  {
   "cell_type": "code",
   "execution_count": 13,
   "id": "2ff4dc4e",
   "metadata": {},
   "outputs": [
    {
     "data": {
      "text/plain": [
       "array([ True,  True,  True,  True,  True,  True,  True,  True,  True,\n",
       "       False,  True, False,  True,  True,  True,  True,  True,  True,\n",
       "       False, False,  True,  True,  True,  True,  True,  True,  True,\n",
       "        True,  True,  True, False, False, False, False, False, False,\n",
       "       False, False, False, False, False,  True,  True, False, False,\n",
       "       False, False, False, False,  True, False, False, False, False,\n",
       "       False,  True, False, False, False,  True, False, False, False,\n",
       "       False, False, False, False, False, False, False, False,  True,\n",
       "       False, False, False, False, False, False, False, False])"
      ]
     },
     "execution_count": 13,
     "metadata": {},
     "output_type": "execute_result"
    }
   ],
   "source": [
    "#Get the selected features\n",
    "select.get_support()"
   ]
  },
  {
   "cell_type": "code",
   "execution_count": 16,
   "id": "35fd4767",
   "metadata": {},
   "outputs": [
    {
     "data": {
      "text/plain": [
       "['mean radius',\n",
       " 'mean texture',\n",
       " 'mean perimeter',\n",
       " 'mean area',\n",
       " 'mean smoothness']"
      ]
     },
     "execution_count": 16,
     "metadata": {},
     "output_type": "execute_result"
    }
   ],
   "source": [
    "#Let us get the names of the selected features\n",
    "original_feature_names = list(cancer['feature_names'])\n",
    "random_features = [\"Random_\" + str(i) for i in range(50)] #create feature names for the 50 random columns\n",
    "#Combine the two to get all feature names\n",
    "feature_names = original_feature_names + random_features\n",
    "feature_names[:5]"
   ]
  },
  {
   "cell_type": "code",
   "execution_count": 19,
   "id": "30ccf697",
   "metadata": {},
   "outputs": [
    {
     "data": {
      "text/plain": [
       "array(['mean radius', 'mean texture', 'mean perimeter', 'mean area',\n",
       "       'mean smoothness', 'mean compactness', 'mean concavity',\n",
       "       'mean concave points', 'mean symmetry', 'radius error',\n",
       "       'perimeter error', 'area error', 'smoothness error',\n",
       "       'compactness error', 'concavity error', 'concave points error',\n",
       "       'worst radius', 'worst texture', 'worst perimeter', 'worst area',\n",
       "       'worst smoothness', 'worst compactness', 'worst concavity',\n",
       "       'worst concave points', 'worst symmetry',\n",
       "       'worst fractal dimension', 'Random_11', 'Random_12', 'Random_19',\n",
       "       'Random_25', 'Random_29', 'Random_41'], dtype='<U23')"
      ]
     },
     "execution_count": 19,
     "metadata": {},
     "output_type": "execute_result"
    }
   ],
   "source": [
    "#Let us get the names of features selected by SelectPercentile\n",
    "np.array(feature_names)[select.get_support()]"
   ]
  },
  {
   "cell_type": "code",
   "execution_count": 21,
   "id": "c1aa7da8",
   "metadata": {},
   "outputs": [
    {
     "name": "stdout",
     "output_type": "stream",
     "text": [
      "Original dataset accuracy: 0.9122807017543859\n"
     ]
    }
   ],
   "source": [
    "#Let us see how the original dataset performs vis-a-vis the selected features\n",
    "from sklearn.linear_model import LogisticRegression\n",
    "classifier = LogisticRegression(max_iter = 10000)\n",
    "classifier.fit(x_train, y_train)\n",
    "print(\"Original dataset accuracy:\", classifier.score(x_test, y_test))"
   ]
  },
  {
   "cell_type": "code",
   "execution_count": 22,
   "id": "878f4d38",
   "metadata": {},
   "outputs": [
    {
     "name": "stdout",
     "output_type": "stream",
     "text": [
      "Selected Features accuracy: 0.9590643274853801\n"
     ]
    }
   ],
   "source": [
    "#now, fit the data on the reduced features\n",
    "classifier.fit(x_train_selected, y_train)\n",
    "#select the features for x_test\n",
    "x_test_selected = select.transform(x_test)\n",
    "print(\"Selected Features accuracy:\", classifier.score(x_test_selected, y_test))"
   ]
  },
  {
   "cell_type": "code",
   "execution_count": 27,
   "id": "fc13f002",
   "metadata": {},
   "outputs": [],
   "source": [
    "#Let us try SelectFromModel for the same dataset\n",
    "from sklearn.feature_selection import SelectFromModel\n",
    "from sklearn.ensemble import RandomForestClassifier\n",
    "select = SelectFromModel(\n",
    "    RandomForestClassifier(n_estimators=100, random_state=99),\n",
    "    threshold=\"mean\") \n"
   ]
  },
  {
   "cell_type": "code",
   "execution_count": 28,
   "id": "bceb2762",
   "metadata": {},
   "outputs": [],
   "source": [
    "#Create reduced features\n",
    "select.fit(x_train, y_train)\n",
    "x_train_selected = select.transform(x_train)\n",
    "x_test_selected = select.transform(x_test)"
   ]
  },
  {
   "cell_type": "code",
   "execution_count": 29,
   "id": "c0e898e0",
   "metadata": {},
   "outputs": [
    {
     "name": "stdout",
     "output_type": "stream",
     "text": [
      "Original dataset accuracy: 0.9122807017543859\n"
     ]
    }
   ],
   "source": [
    "#Let us see how the original dataset performs vis-a-vis the selected features\n",
    "from sklearn.linear_model import LogisticRegression\n",
    "classifier = LogisticRegression(max_iter = 10000)\n",
    "classifier.fit(x_train, y_train)\n",
    "print(\"Original dataset accuracy:\", classifier.score(x_test, y_test))"
   ]
  },
  {
   "cell_type": "code",
   "execution_count": 30,
   "id": "dd04494c",
   "metadata": {},
   "outputs": [
    {
     "name": "stdout",
     "output_type": "stream",
     "text": [
      "Selected Features accuracy: 0.9473684210526315\n"
     ]
    }
   ],
   "source": [
    "#now, fit the data on the reduced features\n",
    "classifier.fit(x_train_selected, y_train)\n",
    "print(\"Selected Features accuracy:\", classifier.score(x_test_selected, y_test))"
   ]
  },
  {
   "cell_type": "code",
   "execution_count": 31,
   "id": "2ed3e36c",
   "metadata": {},
   "outputs": [],
   "source": [
    "#Let us try recursive feature elimination (RFE)\n",
    "from sklearn.feature_selection import RFE\n",
    "select = RFE(RandomForestClassifier(n_estimators=100, random_state=108),\n",
    "             n_features_to_select=32)\n"
   ]
  },
  {
   "cell_type": "code",
   "execution_count": 35,
   "id": "e8617f1b",
   "metadata": {},
   "outputs": [
    {
     "data": {
      "text/plain": [
       "array(['mean radius', 'mean texture', 'mean perimeter', 'mean area',\n",
       "       'mean smoothness', 'mean compactness', 'mean concavity',\n",
       "       'mean concave points', 'mean symmetry', 'radius error',\n",
       "       'texture error', 'perimeter error', 'area error',\n",
       "       'compactness error', 'concavity error', 'worst radius',\n",
       "       'worst texture', 'worst perimeter', 'worst area',\n",
       "       'worst smoothness', 'worst compactness', 'worst concavity',\n",
       "       'worst concave points', 'worst symmetry',\n",
       "       'worst fractal dimension', 'Random_0', 'Random_9', 'Random_12',\n",
       "       'Random_26', 'Random_37', 'Random_41', 'Random_47'], dtype='<U23')"
      ]
     },
     "execution_count": 35,
     "metadata": {},
     "output_type": "execute_result"
    }
   ],
   "source": [
    "#Let us get the names of features selected by SelectPercentile\n",
    "np.array(feature_names)[select.get_support()]"
   ]
  },
  {
   "cell_type": "code",
   "execution_count": 32,
   "id": "ed07bd69",
   "metadata": {},
   "outputs": [],
   "source": [
    "#Create reduced features\n",
    "select.fit(x_train, y_train)\n",
    "x_train_selected = select.transform(x_train)\n",
    "x_test_selected = select.transform(x_test)"
   ]
  },
  {
   "cell_type": "code",
   "execution_count": 33,
   "id": "10f02cf0",
   "metadata": {},
   "outputs": [
    {
     "name": "stdout",
     "output_type": "stream",
     "text": [
      "Original dataset accuracy: 0.9122807017543859\n"
     ]
    }
   ],
   "source": [
    "#Let us see how the original dataset performs vis-a-vis the selected features\n",
    "from sklearn.linear_model import LogisticRegression\n",
    "classifier = LogisticRegression(max_iter = 10000)\n",
    "classifier.fit(x_train, y_train)\n",
    "print(\"Original dataset accuracy:\", classifier.score(x_test, y_test))"
   ]
  },
  {
   "cell_type": "code",
   "execution_count": 34,
   "id": "3d77d5c4",
   "metadata": {},
   "outputs": [
    {
     "name": "stdout",
     "output_type": "stream",
     "text": [
      "Selected Features accuracy: 0.9415204678362573\n"
     ]
    }
   ],
   "source": [
    "#now, fit the data on the reduced features\n",
    "classifier.fit(x_train_selected, y_train)\n",
    "print(\"Selected Features accuracy:\", classifier.score(x_test_selected, y_test))"
   ]
  },
  {
   "cell_type": "code",
   "execution_count": null,
   "id": "57e7b77e",
   "metadata": {},
   "outputs": [],
   "source": []
  }
 ],
 "metadata": {
  "kernelspec": {
   "display_name": "Python 3 (ipykernel)",
   "language": "python",
   "name": "python3"
  },
  "language_info": {
   "codemirror_mode": {
    "name": "ipython",
    "version": 3
   },
   "file_extension": ".py",
   "mimetype": "text/x-python",
   "name": "python",
   "nbconvert_exporter": "python",
   "pygments_lexer": "ipython3",
   "version": "3.9.12"
  }
 },
 "nbformat": 4,
 "nbformat_minor": 5
}
