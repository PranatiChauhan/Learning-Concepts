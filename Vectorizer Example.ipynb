{
 "cells": [
  {
   "cell_type": "code",
   "execution_count": 23,
   "id": "intensive-winner",
   "metadata": {},
   "outputs": [],
   "source": [
    "corpus = [\"machine learning is very important for the future\",\n",
    "          \"deep learning is transforming the world\",\n",
    "          \"AI, machine learning, and deep learning are part of a data scientist's toolkit\"]"
   ]
  },
  {
   "cell_type": "code",
   "execution_count": 26,
   "id": "activated-uzbekistan",
   "metadata": {},
   "outputs": [],
   "source": [
    "from sklearn.feature_extraction.text import ENGLISH_STOP_WORDS\n",
    "import re\n",
    "def preprocess(txt):\n",
    "    txt = txt.lower() #normalize text\n",
    "    txt = re.sub(r'[^a-zA-Z]',' ', txt) #removes punctuation and digits\n",
    "    #we are not going to lemmatize -- you do it!\n",
    "    #let us remove stopwords\n",
    "    words = txt.split()\n",
    "    words = [w for w in words if w not in ENGLISH_STOP_WORDS]\n",
    "    return \" \".join(words)\n",
    "    \n",
    "    "
   ]
  },
  {
   "cell_type": "code",
   "execution_count": 27,
   "id": "modern-palmer",
   "metadata": {},
   "outputs": [
    {
     "data": {
      "text/plain": [
       "'sky blue cloud sky'"
      ]
     },
     "execution_count": 27,
     "metadata": {},
     "output_type": "execute_result"
    }
   ],
   "source": [
    "preprocess(\"The sky is blue, not a cloud in the sky! This is 2021\")"
   ]
  },
  {
   "cell_type": "code",
   "execution_count": 28,
   "id": "conservative-campaign",
   "metadata": {},
   "outputs": [],
   "source": [
    "corpus = [preprocess(txt) for txt in corpus]"
   ]
  },
  {
   "cell_type": "code",
   "execution_count": 29,
   "id": "vanilla-research",
   "metadata": {},
   "outputs": [
    {
     "data": {
      "text/plain": [
       "['machine learning important future',\n",
       " 'deep learning transforming world',\n",
       " 'ai machine learning deep learning data scientist s toolkit']"
      ]
     },
     "execution_count": 29,
     "metadata": {},
     "output_type": "execute_result"
    }
   ],
   "source": [
    "corpus"
   ]
  },
  {
   "cell_type": "code",
   "execution_count": 35,
   "id": "flexible-johns",
   "metadata": {},
   "outputs": [],
   "source": [
    "#we need to convert our text to numbers\n",
    "#To do that, we use vectorizers\n",
    "#let us use a CountVectorizer\n",
    "from sklearn.feature_extraction.text import CountVectorizer, TfidfVectorizer\n",
    "v = TfidfVectorizer()\n",
    "dtm = v.fit_transform(corpus)"
   ]
  },
  {
   "cell_type": "code",
   "execution_count": 36,
   "id": "warming-printer",
   "metadata": {},
   "outputs": [
    {
     "data": {
      "text/plain": [
       "['ai',\n",
       " 'data',\n",
       " 'deep',\n",
       " 'future',\n",
       " 'important',\n",
       " 'learning',\n",
       " 'machine',\n",
       " 'scientist',\n",
       " 'toolkit',\n",
       " 'transforming',\n",
       " 'world']"
      ]
     },
     "execution_count": 36,
     "metadata": {},
     "output_type": "execute_result"
    }
   ],
   "source": [
    "vocab = v.get_feature_names()\n",
    "vocab"
   ]
  },
  {
   "cell_type": "code",
   "execution_count": 37,
   "id": "german-reception",
   "metadata": {},
   "outputs": [
    {
     "data": {
      "text/plain": [
       "array([[0.        , 0.        , 0.        , 0.5844829 , 0.5844829 ,\n",
       "        0.34520502, 0.44451431, 0.        , 0.        , 0.        ,\n",
       "        0.        ],\n",
       "       [0.        , 0.        , 0.44451431, 0.        , 0.        ,\n",
       "        0.34520502, 0.        , 0.        , 0.        , 0.5844829 ,\n",
       "        0.5844829 ],\n",
       "       [0.39066946, 0.39066946, 0.29711419, 0.        , 0.        ,\n",
       "        0.46147135, 0.29711419, 0.39066946, 0.39066946, 0.        ,\n",
       "        0.        ]])"
      ]
     },
     "execution_count": 37,
     "metadata": {},
     "output_type": "execute_result"
    }
   ],
   "source": [
    "dtm.toarray()"
   ]
  },
  {
   "cell_type": "code",
   "execution_count": 38,
   "id": "original-chamber",
   "metadata": {},
   "outputs": [
    {
     "data": {
      "text/html": [
       "<div>\n",
       "<style scoped>\n",
       "    .dataframe tbody tr th:only-of-type {\n",
       "        vertical-align: middle;\n",
       "    }\n",
       "\n",
       "    .dataframe tbody tr th {\n",
       "        vertical-align: top;\n",
       "    }\n",
       "\n",
       "    .dataframe thead th {\n",
       "        text-align: right;\n",
       "    }\n",
       "</style>\n",
       "<table border=\"1\" class=\"dataframe\">\n",
       "  <thead>\n",
       "    <tr style=\"text-align: right;\">\n",
       "      <th></th>\n",
       "      <th>ai</th>\n",
       "      <th>data</th>\n",
       "      <th>deep</th>\n",
       "      <th>future</th>\n",
       "      <th>important</th>\n",
       "      <th>learning</th>\n",
       "      <th>machine</th>\n",
       "      <th>scientist</th>\n",
       "      <th>toolkit</th>\n",
       "      <th>transforming</th>\n",
       "      <th>world</th>\n",
       "    </tr>\n",
       "  </thead>\n",
       "  <tbody>\n",
       "    <tr>\n",
       "      <th>0</th>\n",
       "      <td>0.000000</td>\n",
       "      <td>0.000000</td>\n",
       "      <td>0.000000</td>\n",
       "      <td>0.584483</td>\n",
       "      <td>0.584483</td>\n",
       "      <td>0.345205</td>\n",
       "      <td>0.444514</td>\n",
       "      <td>0.000000</td>\n",
       "      <td>0.000000</td>\n",
       "      <td>0.000000</td>\n",
       "      <td>0.000000</td>\n",
       "    </tr>\n",
       "    <tr>\n",
       "      <th>1</th>\n",
       "      <td>0.000000</td>\n",
       "      <td>0.000000</td>\n",
       "      <td>0.444514</td>\n",
       "      <td>0.000000</td>\n",
       "      <td>0.000000</td>\n",
       "      <td>0.345205</td>\n",
       "      <td>0.000000</td>\n",
       "      <td>0.000000</td>\n",
       "      <td>0.000000</td>\n",
       "      <td>0.584483</td>\n",
       "      <td>0.584483</td>\n",
       "    </tr>\n",
       "    <tr>\n",
       "      <th>2</th>\n",
       "      <td>0.390669</td>\n",
       "      <td>0.390669</td>\n",
       "      <td>0.297114</td>\n",
       "      <td>0.000000</td>\n",
       "      <td>0.000000</td>\n",
       "      <td>0.461471</td>\n",
       "      <td>0.297114</td>\n",
       "      <td>0.390669</td>\n",
       "      <td>0.390669</td>\n",
       "      <td>0.000000</td>\n",
       "      <td>0.000000</td>\n",
       "    </tr>\n",
       "  </tbody>\n",
       "</table>\n",
       "</div>"
      ],
      "text/plain": [
       "         ai      data      deep    future  important  learning   machine  \\\n",
       "0  0.000000  0.000000  0.000000  0.584483   0.584483  0.345205  0.444514   \n",
       "1  0.000000  0.000000  0.444514  0.000000   0.000000  0.345205  0.000000   \n",
       "2  0.390669  0.390669  0.297114  0.000000   0.000000  0.461471  0.297114   \n",
       "\n",
       "   scientist   toolkit  transforming     world  \n",
       "0   0.000000  0.000000      0.000000  0.000000  \n",
       "1   0.000000  0.000000      0.584483  0.584483  \n",
       "2   0.390669  0.390669      0.000000  0.000000  "
      ]
     },
     "execution_count": 38,
     "metadata": {},
     "output_type": "execute_result"
    }
   ],
   "source": [
    "import pandas as pd\n",
    "df = pd.DataFrame(dtm.toarray(), columns = vocab)\n",
    "df"
   ]
  },
  {
   "cell_type": "code",
   "execution_count": 42,
   "id": "respective-sharp",
   "metadata": {},
   "outputs": [
    {
     "data": {
      "text/plain": [
       "[0.0,\n",
       " 0.0,\n",
       " 0.0,\n",
       " 0.5844829010200651,\n",
       " 0.5844829010200651,\n",
       " 0.34520501686496574,\n",
       " 0.444514311537431,\n",
       " 0.0,\n",
       " 0.0,\n",
       " 0.0,\n",
       " 0.0]"
      ]
     },
     "execution_count": 42,
     "metadata": {},
     "output_type": "execute_result"
    }
   ],
   "source": [
    "a = list(df.iloc[0])\n",
    "a"
   ]
  },
  {
   "cell_type": "code",
   "execution_count": 43,
   "id": "exotic-manual",
   "metadata": {},
   "outputs": [
    {
     "data": {
      "text/plain": [
       "0.9999999999999998"
      ]
     },
     "execution_count": 43,
     "metadata": {},
     "output_type": "execute_result"
    }
   ],
   "source": [
    "sum([x * x for x in a])"
   ]
  },
  {
   "cell_type": "markdown",
   "id": "continental-importance",
   "metadata": {},
   "source": [
    "Sparse matrix:\n",
    "[0 0 0 0 0 0 0 1 0 0 0 0.....\n",
    "........\n",
    "...] Let us assume this is a very large matrix (100000 x 1000000)\n",
    "\n",
    "[1000000, [5, 1005, 999000], [23, 11, 5]]"
   ]
  },
  {
   "cell_type": "code",
   "execution_count": 44,
   "id": "cognitive-province",
   "metadata": {},
   "outputs": [
    {
     "data": {
      "text/plain": [
       "array([0.        , 0.        , 0.        , 0.5844829 , 0.5844829 ,\n",
       "       0.34520502, 0.44451431, 0.        , 0.        , 0.        ,\n",
       "       0.        ])"
      ]
     },
     "execution_count": 44,
     "metadata": {},
     "output_type": "execute_result"
    }
   ],
   "source": [
    "a = dtm.toarray()[0]\n",
    "b = dtm.toarray()[1]\n",
    "c = dtm.toarray()[2]\n",
    "a"
   ]
  },
  {
   "cell_type": "markdown",
   "id": "recreational-planet",
   "metadata": {},
   "source": [
    "a = [1,2,3]\n",
    "b = [1,3,3]\n",
    "Euclidean distance = ? = math.sqrt([(1 -1)**2 + (2 - 3) ** 2 + (3 - 3)** 2])"
   ]
  },
  {
   "cell_type": "code",
   "execution_count": 45,
   "id": "settled-vessel",
   "metadata": {},
   "outputs": [],
   "source": [
    "import numpy as np\n",
    "import math\n",
    "def euclidean(a,b):\n",
    "    return math.sqrt(np.sum([(x - y)** 2 for x, y in zip(a,b)]))\n",
    "    "
   ]
  },
  {
   "cell_type": "code",
   "execution_count": 49,
   "id": "sustainable-nickname",
   "metadata": {},
   "outputs": [],
   "source": [
    "def cosine_distance(a, b):\n",
    "    numerator = a.dot(b) #dot product of a and b\n",
    "    length_of_a = math.sqrt(np.sum([x ** 2 for x in a]))\n",
    "    length_of_b = math.sqrt(np.sum([x ** 2 for x in b]))\n",
    "    return numerator / (length_of_a * length_of_b)"
   ]
  },
  {
   "cell_type": "code",
   "execution_count": 51,
   "id": "religious-chaos",
   "metadata": {},
   "outputs": [
    {
     "data": {
      "text/plain": [
       "0.9925833339709303"
      ]
     },
     "execution_count": 51,
     "metadata": {},
     "output_type": "execute_result"
    }
   ],
   "source": [
    "cosine_distance(np.array([1,2,3]),np.array([2,3,4]))"
   ]
  },
  {
   "cell_type": "code",
   "execution_count": null,
   "id": "perceived-craft",
   "metadata": {},
   "outputs": [],
   "source": []
  }
 ],
 "metadata": {
  "kernelspec": {
   "display_name": "Python 3",
   "language": "python",
   "name": "python3"
  },
  "language_info": {
   "codemirror_mode": {
    "name": "ipython",
    "version": 3
   },
   "file_extension": ".py",
   "mimetype": "text/x-python",
   "name": "python",
   "nbconvert_exporter": "python",
   "pygments_lexer": "ipython3",
   "version": "3.8.8"
  }
 },
 "nbformat": 4,
 "nbformat_minor": 5
}
