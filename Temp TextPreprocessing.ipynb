{
 "cells": [
  {
   "cell_type": "code",
   "execution_count": 16,
   "id": "defensive-crash",
   "metadata": {},
   "outputs": [
    {
     "name": "stdout",
     "output_type": "stream",
     "text": [
      "1656 Beggars die many times before their deaths; the valiant taste of death but once!\n",
      "    1899 The Moving Finger Writes and Having writ moves on; nor all thy piety nor\n",
      "    with shall lure it back to cancel half a line............\n"
     ]
    }
   ],
   "source": [
    "s = \"\"\"1656 Beggars die many times before their deaths; the valiant taste of death but once!\n",
    "    1899 The Moving Finger Writes and Having writ moves on; nor all thy piety nor\n",
    "    with shall lure it back to cancel half a line............\"\"\"\n",
    "#Read The Rubaiyats of Omar Khayyam\n",
    "print(s)"
   ]
  },
  {
   "cell_type": "code",
   "execution_count": 3,
   "id": "silent-bouquet",
   "metadata": {},
   "outputs": [
    {
     "data": {
      "text/plain": [
       "'1656: beggars die many times before their deaths; the valiant taste of death but once!\\n    1899: the moving finger writes and having writ moves on; nor all thy piety nor\\n    with shall lure it back to cancel half a line............'"
      ]
     },
     "execution_count": 3,
     "metadata": {},
     "output_type": "execute_result"
    }
   ],
   "source": [
    "#normalize\n",
    "s = s.lower()\n",
    "s"
   ]
  },
  {
   "cell_type": "code",
   "execution_count": 12,
   "id": "italian-extra",
   "metadata": {},
   "outputs": [
    {
     "data": {
      "text/plain": [
       "'      beggars die many times before their deaths  the valiant taste of death but once \\n          the moving finger writes and having writ moves on  nor all thy piety nor\\n    with shall lure it back to cancel half a line            '"
      ]
     },
     "execution_count": 12,
     "metadata": {},
     "output_type": "execute_result"
    }
   ],
   "source": [
    "#remove punctuation and digits\n",
    "import string\n",
    "p = string.punctuation + string.digits\n",
    "table = str.maketrans(p, len(p) * \" \" )\n",
    "s.translate(table)"
   ]
  },
  {
   "cell_type": "code",
   "execution_count": 14,
   "id": "informed-amplifier",
   "metadata": {},
   "outputs": [
    {
     "data": {
      "text/plain": [
       "'      beggars die many times before their deaths  the valiant taste of death but once            the moving finger writes and having writ moves on  nor all thy piety nor     with shall lure it back to cancel half a line            '"
      ]
     },
     "execution_count": 14,
     "metadata": {},
     "output_type": "execute_result"
    }
   ],
   "source": [
    "import re\n",
    "re.sub(r'[^a-zA-Z]', ' ', s) "
   ]
  },
  {
   "cell_type": "code",
   "execution_count": 15,
   "id": "speaking-eight",
   "metadata": {},
   "outputs": [],
   "source": [
    "import spacy\n",
    "nlp = spacy.load('en_core_web_lg')"
   ]
  },
  {
   "cell_type": "code",
   "execution_count": 18,
   "id": "driving-helmet",
   "metadata": {},
   "outputs": [
    {
     "name": "stdout",
     "output_type": "stream",
     "text": [
      "I I PRON\n",
      "have have VERB\n",
      "a a DET\n",
      "meeting meeting NOUN\n",
      "with with ADP\n",
      "a a DET\n",
      "client client NOUN\n",
      "in in ADP\n",
      "development development NOUN\n",
      "tomorrow tomorrow NOUN\n",
      ". . PUNCT\n",
      "Developing develop VERB\n",
      "software software NOUN\n",
      "is be AUX\n",
      "not not PART\n",
      "easy easy ADJ\n",
      ". . PUNCT\n",
      "I I PRON\n",
      "will will AUX\n",
      "be be AUX\n",
      "meeting meet VERB\n",
      "the the DET\n",
      "CEO CEO PROPN\n",
      "tomorrow tomorrow NOUN\n"
     ]
    }
   ],
   "source": [
    "x = \"I have a meeting with a client in development tomorrow. Developing software is not easy. \\\n",
    "I will be meeting the CEO tomorrow\"\n",
    "doc = nlp(x)\n",
    "for token in doc:\n",
    "    print(token.text, token.lemma_, token.pos_)\n",
    "    "
   ]
  },
  {
   "cell_type": "code",
   "execution_count": null,
   "id": "minute-vietnamese",
   "metadata": {},
   "outputs": [],
   "source": []
  }
 ],
 "metadata": {
  "kernelspec": {
   "display_name": "Python 3",
   "language": "python",
   "name": "python3"
  },
  "language_info": {
   "codemirror_mode": {
    "name": "ipython",
    "version": 3
   },
   "file_extension": ".py",
   "mimetype": "text/x-python",
   "name": "python",
   "nbconvert_exporter": "python",
   "pygments_lexer": "ipython3",
   "version": "3.8.8"
  }
 },
 "nbformat": 4,
 "nbformat_minor": 5
}
