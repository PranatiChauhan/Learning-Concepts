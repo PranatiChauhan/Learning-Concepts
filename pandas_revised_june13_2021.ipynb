{
 "cells": [
  {
   "cell_type": "markdown",
   "metadata": {},
   "source": [
    "INTRODUCTION TO PANDAS - By Sridhar Nerur (with a lot of help from the Internet and other sources!!!)\n",
    "\n",
    "1. Pandas is arguably the most widely used Python module for Machine Learning.\n",
    "2. Pandas allows us to store data in a tabular format, much like the format you\n",
    "    use with Excel, CSV files, etc.\n",
    "3. The data structure that makes this possible is called a DataFrame.\n",
    "4. This tutorial is an introduction to Pandas DataFrames.\n",
    "5. If you wish to learn more, read Wes McKinney's excellent book \"Python for Data Analysis\"\n",
    "\n",
    "Let us get started..........\n"
   ]
  },
  {
   "cell_type": "code",
   "execution_count": 1,
   "metadata": {},
   "outputs": [],
   "source": [
    "#Suppress warnings...\n",
    "import warnings\n",
    "warnings.filterwarnings('ignore')"
   ]
  },
  {
   "cell_type": "code",
   "execution_count": 2,
   "metadata": {},
   "outputs": [
    {
     "data": {
      "text/html": [
       "<div>\n",
       "<style scoped>\n",
       "    .dataframe tbody tr th:only-of-type {\n",
       "        vertical-align: middle;\n",
       "    }\n",
       "\n",
       "    .dataframe tbody tr th {\n",
       "        vertical-align: top;\n",
       "    }\n",
       "\n",
       "    .dataframe thead th {\n",
       "        text-align: right;\n",
       "    }\n",
       "</style>\n",
       "<table border=\"1\" class=\"dataframe\">\n",
       "  <thead>\n",
       "    <tr style=\"text-align: right;\">\n",
       "      <th></th>\n",
       "      <th>user_id</th>\n",
       "      <th>movie_id</th>\n",
       "      <th>rating</th>\n",
       "    </tr>\n",
       "  </thead>\n",
       "  <tbody>\n",
       "    <tr>\n",
       "      <th>0</th>\n",
       "      <td>1</td>\n",
       "      <td>m1</td>\n",
       "      <td>2</td>\n",
       "    </tr>\n",
       "    <tr>\n",
       "      <th>1</th>\n",
       "      <td>1</td>\n",
       "      <td>m2</td>\n",
       "      <td>5</td>\n",
       "    </tr>\n",
       "    <tr>\n",
       "      <th>2</th>\n",
       "      <td>2</td>\n",
       "      <td>m1</td>\n",
       "      <td>4</td>\n",
       "    </tr>\n",
       "    <tr>\n",
       "      <th>3</th>\n",
       "      <td>2</td>\n",
       "      <td>m3</td>\n",
       "      <td>3</td>\n",
       "    </tr>\n",
       "    <tr>\n",
       "      <th>4</th>\n",
       "      <td>2</td>\n",
       "      <td>m4</td>\n",
       "      <td>5</td>\n",
       "    </tr>\n",
       "    <tr>\n",
       "      <th>5</th>\n",
       "      <td>3</td>\n",
       "      <td>m1</td>\n",
       "      <td>1</td>\n",
       "    </tr>\n",
       "    <tr>\n",
       "      <th>6</th>\n",
       "      <td>4</td>\n",
       "      <td>m2</td>\n",
       "      <td>4</td>\n",
       "    </tr>\n",
       "    <tr>\n",
       "      <th>7</th>\n",
       "      <td>4</td>\n",
       "      <td>m3</td>\n",
       "      <td>5</td>\n",
       "    </tr>\n",
       "    <tr>\n",
       "      <th>8</th>\n",
       "      <td>4</td>\n",
       "      <td>m5</td>\n",
       "      <td>3</td>\n",
       "    </tr>\n",
       "    <tr>\n",
       "      <th>9</th>\n",
       "      <td>4</td>\n",
       "      <td>m6</td>\n",
       "      <td>1</td>\n",
       "    </tr>\n",
       "  </tbody>\n",
       "</table>\n",
       "</div>"
      ],
      "text/plain": [
       "   user_id movie_id  rating\n",
       "0        1       m1       2\n",
       "1        1       m2       5\n",
       "2        2       m1       4\n",
       "3        2       m3       3\n",
       "4        2       m4       5\n",
       "5        3       m1       1\n",
       "6        4       m2       4\n",
       "7        4       m3       5\n",
       "8        4       m5       3\n",
       "9        4       m6       1"
      ]
     },
     "execution_count": 2,
     "metadata": {},
     "output_type": "execute_result"
    }
   ],
   "source": [
    "#Let us create a dataframe with the following columns: user_id, movie_id, rating\n",
    "import pandas as pd\n",
    "reviews = {\"user_id\": [1, 1, 2, 2, 2, 3, 4, 4, 4, 4],\n",
    "           \"movie_id\": [\"m1\", \"m2\", \"m1\", \"m3\", \"m4\", \"m1\", \"m2\", \"m3\", \"m5\", \"m6\"],\n",
    "           \"rating\": [2, 5, 4, 3, 5, 1, 4, 5, 3, 1]}\n",
    "#let us create a DataFrame - a tabular format that should remind you of a spreadsheet\n",
    "df = pd.DataFrame(reviews)\n",
    "df"
   ]
  },
  {
   "cell_type": "code",
   "execution_count": 3,
   "metadata": {},
   "outputs": [
    {
     "data": {
      "text/plain": [
       "Index(['user_id', 'movie_id', 'rating'], dtype='object')"
      ]
     },
     "execution_count": 3,
     "metadata": {},
     "output_type": "execute_result"
    }
   ],
   "source": [
    "#let us list all the columns\n",
    "df.columns"
   ]
  },
  {
   "cell_type": "code",
   "execution_count": 4,
   "metadata": {},
   "outputs": [
    {
     "data": {
      "text/plain": [
       "RangeIndex(start=0, stop=10, step=1)"
      ]
     },
     "execution_count": 4,
     "metadata": {},
     "output_type": "execute_result"
    }
   ],
   "source": [
    "#let us look at the index\n",
    "df.index"
   ]
  },
  {
   "cell_type": "code",
   "execution_count": 5,
   "metadata": {},
   "outputs": [
    {
     "name": "stdout",
     "output_type": "stream",
     "text": [
      "<class 'pandas.core.frame.DataFrame'>\n",
      "RangeIndex: 10 entries, 0 to 9\n",
      "Data columns (total 3 columns):\n",
      " #   Column    Non-Null Count  Dtype \n",
      "---  ------    --------------  ----- \n",
      " 0   user_id   10 non-null     int64 \n",
      " 1   movie_id  10 non-null     object\n",
      " 2   rating    10 non-null     int64 \n",
      "dtypes: int64(2), object(1)\n",
      "memory usage: 368.0+ bytes\n"
     ]
    }
   ],
   "source": [
    "#let us get some information about the table\n",
    "df.info()"
   ]
  },
  {
   "cell_type": "code",
   "execution_count": 6,
   "metadata": {},
   "outputs": [
    {
     "data": {
      "text/plain": [
       "user_id      int64\n",
       "movie_id    object\n",
       "rating       int64\n",
       "dtype: object"
      ]
     },
     "execution_count": 6,
     "metadata": {},
     "output_type": "execute_result"
    }
   ],
   "source": [
    "#let us look at the data types\n",
    "df.dtypes"
   ]
  },
  {
   "cell_type": "code",
   "execution_count": 5,
   "metadata": {},
   "outputs": [
    {
     "name": "stdout",
     "output_type": "stream",
     "text": [
      "3.3 3.5 5 1.567021236472421 2.4555555555555553\n"
     ]
    }
   ],
   "source": [
    "#let us get some basic statistics on the rating column\n",
    "mean_rating = df['rating'].mean()\n",
    "max_rating = df.rating.max() #note that df['rating'] and df.rating are equivalent\n",
    "std_rating = df['rating'].std()\n",
    "var_rating = df['rating'].var()\n",
    "median_rating = df.rating.median()\n",
    "#let us display all the variables\n",
    "print(mean_rating, median_rating, max_rating, std_rating, var_rating)"
   ]
  },
  {
   "cell_type": "code",
   "execution_count": 6,
   "metadata": {},
   "outputs": [
    {
     "data": {
      "text/plain": [
       "count    10.000000\n",
       "mean      3.300000\n",
       "std       1.567021\n",
       "min       1.000000\n",
       "25%       2.250000\n",
       "50%       3.500000\n",
       "75%       4.750000\n",
       "max       5.000000\n",
       "Name: rating, dtype: float64"
      ]
     },
     "execution_count": 6,
     "metadata": {},
     "output_type": "execute_result"
    }
   ],
   "source": [
    "#here is an easier way to get all the basic stats\n",
    "df.rating.describe()"
   ]
  },
  {
   "cell_type": "code",
   "execution_count": 7,
   "metadata": {},
   "outputs": [
    {
     "data": {
      "text/plain": [
       "6"
      ]
     },
     "execution_count": 7,
     "metadata": {},
     "output_type": "execute_result"
    }
   ],
   "source": [
    "#let us see how many unique movie ids we have\n",
    "df.movie_id.nunique()\n"
   ]
  },
  {
   "cell_type": "code",
   "execution_count": 9,
   "metadata": {},
   "outputs": [
    {
     "data": {
      "text/plain": [
       "array(['m1', 'm2', 'm3', 'm4', 'm5', 'm6'], dtype=object)"
      ]
     },
     "execution_count": 9,
     "metadata": {},
     "output_type": "execute_result"
    }
   ],
   "source": [
    "df.movie_id.unique() #will give you a list of unique movie ids"
   ]
  },
  {
   "cell_type": "code",
   "execution_count": 8,
   "metadata": {},
   "outputs": [
    {
     "data": {
      "text/html": [
       "<div>\n",
       "<style scoped>\n",
       "    .dataframe tbody tr th:only-of-type {\n",
       "        vertical-align: middle;\n",
       "    }\n",
       "\n",
       "    .dataframe tbody tr th {\n",
       "        vertical-align: top;\n",
       "    }\n",
       "\n",
       "    .dataframe thead th {\n",
       "        text-align: right;\n",
       "    }\n",
       "</style>\n",
       "<table border=\"1\" class=\"dataframe\">\n",
       "  <thead>\n",
       "    <tr style=\"text-align: right;\">\n",
       "      <th></th>\n",
       "      <th>user_id</th>\n",
       "      <th>movie_id</th>\n",
       "    </tr>\n",
       "  </thead>\n",
       "  <tbody>\n",
       "    <tr>\n",
       "      <th>0</th>\n",
       "      <td>1</td>\n",
       "      <td>m1</td>\n",
       "    </tr>\n",
       "    <tr>\n",
       "      <th>1</th>\n",
       "      <td>1</td>\n",
       "      <td>m2</td>\n",
       "    </tr>\n",
       "    <tr>\n",
       "      <th>2</th>\n",
       "      <td>2</td>\n",
       "      <td>m1</td>\n",
       "    </tr>\n",
       "    <tr>\n",
       "      <th>3</th>\n",
       "      <td>2</td>\n",
       "      <td>m3</td>\n",
       "    </tr>\n",
       "    <tr>\n",
       "      <th>4</th>\n",
       "      <td>2</td>\n",
       "      <td>m4</td>\n",
       "    </tr>\n",
       "    <tr>\n",
       "      <th>5</th>\n",
       "      <td>3</td>\n",
       "      <td>m1</td>\n",
       "    </tr>\n",
       "    <tr>\n",
       "      <th>6</th>\n",
       "      <td>4</td>\n",
       "      <td>m2</td>\n",
       "    </tr>\n",
       "    <tr>\n",
       "      <th>7</th>\n",
       "      <td>4</td>\n",
       "      <td>m3</td>\n",
       "    </tr>\n",
       "    <tr>\n",
       "      <th>8</th>\n",
       "      <td>4</td>\n",
       "      <td>m5</td>\n",
       "    </tr>\n",
       "    <tr>\n",
       "      <th>9</th>\n",
       "      <td>4</td>\n",
       "      <td>m6</td>\n",
       "    </tr>\n",
       "  </tbody>\n",
       "</table>\n",
       "</div>"
      ],
      "text/plain": [
       "   user_id movie_id\n",
       "0        1       m1\n",
       "1        1       m2\n",
       "2        2       m1\n",
       "3        2       m3\n",
       "4        2       m4\n",
       "5        3       m1\n",
       "6        4       m2\n",
       "7        4       m3\n",
       "8        4       m5\n",
       "9        4       m6"
      ]
     },
     "execution_count": 8,
     "metadata": {},
     "output_type": "execute_result"
    }
   ],
   "source": [
    "#displaying selected columns, say, user id and movie id\n",
    "df[[\"user_id\", \"movie_id\"]]"
   ]
  },
  {
   "cell_type": "code",
   "execution_count": 9,
   "metadata": {},
   "outputs": [
    {
     "data": {
      "text/html": [
       "<div>\n",
       "<style scoped>\n",
       "    .dataframe tbody tr th:only-of-type {\n",
       "        vertical-align: middle;\n",
       "    }\n",
       "\n",
       "    .dataframe tbody tr th {\n",
       "        vertical-align: top;\n",
       "    }\n",
       "\n",
       "    .dataframe thead th {\n",
       "        text-align: right;\n",
       "    }\n",
       "</style>\n",
       "<table border=\"1\" class=\"dataframe\">\n",
       "  <thead>\n",
       "    <tr style=\"text-align: right;\">\n",
       "      <th></th>\n",
       "      <th>movie_id</th>\n",
       "      <th>rating</th>\n",
       "      <th>user_id</th>\n",
       "    </tr>\n",
       "  </thead>\n",
       "  <tbody>\n",
       "    <tr>\n",
       "      <th>0</th>\n",
       "      <td>m1</td>\n",
       "      <td>2</td>\n",
       "      <td>1</td>\n",
       "    </tr>\n",
       "    <tr>\n",
       "      <th>1</th>\n",
       "      <td>m2</td>\n",
       "      <td>5</td>\n",
       "      <td>1</td>\n",
       "    </tr>\n",
       "  </tbody>\n",
       "</table>\n",
       "</div>"
      ],
      "text/plain": [
       "  movie_id  rating  user_id\n",
       "0       m1       2        1\n",
       "1       m2       5        1"
      ]
     },
     "execution_count": 9,
     "metadata": {},
     "output_type": "execute_result"
    }
   ],
   "source": [
    "#display user 1's records\n",
    "df[df['user_id'] == 1] #you can use boolean logic - & | (AND, OR)"
   ]
  },
  {
   "cell_type": "code",
   "execution_count": 10,
   "metadata": {},
   "outputs": [
    {
     "data": {
      "text/plain": [
       "1    m2\n",
       "2    m1\n",
       "4    m4\n",
       "6    m2\n",
       "7    m3\n",
       "Name: movie_id, dtype: object"
      ]
     },
     "execution_count": 10,
     "metadata": {},
     "output_type": "execute_result"
    }
   ],
   "source": [
    "#display all movies that received a rating higher than 3\n",
    "df[df['rating'] > 3]['movie_id']\n",
    "#Or ....\n",
    "df.loc[df['rating'] > 3, 'movie_id']"
   ]
  },
  {
   "cell_type": "code",
   "execution_count": 11,
   "metadata": {},
   "outputs": [
    {
     "data": {
      "text/plain": [
       "movie_id\n",
       "m1    2.333333\n",
       "m2    4.500000\n",
       "m3    4.000000\n",
       "m4    5.000000\n",
       "m5    3.000000\n",
       "m6    1.000000\n",
       "Name: rating, dtype: float64"
      ]
     },
     "execution_count": 11,
     "metadata": {},
     "output_type": "execute_result"
    }
   ],
   "source": [
    "#let us look at the average ratings per movie id\n",
    "df.groupby('movie_id').mean()['rating']"
   ]
  },
  {
   "cell_type": "code",
   "execution_count": 3,
   "metadata": {},
   "outputs": [
    {
     "data": {
      "image/png": "[encoded data removed]",
      "text/plain": [
       "<Figure size 432x288 with 1 Axes>"
      ]
     },
     "metadata": {
      "needs_background": "light"
     },
     "output_type": "display_data"
    }
   ],
   "source": [
    "#let us plot a bar chart of average ratings per movie id\n",
    "import matplotlib.pyplot as plt\n",
    "df.groupby('movie_id').mean()['rating'].plot(kind='bar',x='movie_id',y='rating', title=\"Average Rating Per Movie\")\n",
    "plt.ylabel(\"Ratings\")\n",
    "plt.show()"
   ]
  },
  {
   "cell_type": "code",
   "execution_count": 13,
   "metadata": {},
   "outputs": [
    {
     "data": {
      "text/html": [
       "<div>\n",
       "<style scoped>\n",
       "    .dataframe tbody tr th:only-of-type {\n",
       "        vertical-align: middle;\n",
       "    }\n",
       "\n",
       "    .dataframe tbody tr th {\n",
       "        vertical-align: top;\n",
       "    }\n",
       "\n",
       "    .dataframe thead th {\n",
       "        text-align: right;\n",
       "    }\n",
       "</style>\n",
       "<table border=\"1\" class=\"dataframe\">\n",
       "  <thead>\n",
       "    <tr style=\"text-align: right;\">\n",
       "      <th></th>\n",
       "      <th>movie_id</th>\n",
       "      <th>title</th>\n",
       "    </tr>\n",
       "  </thead>\n",
       "  <tbody>\n",
       "    <tr>\n",
       "      <th>0</th>\n",
       "      <td>m1</td>\n",
       "      <td>The Jungle Book</td>\n",
       "    </tr>\n",
       "    <tr>\n",
       "      <th>1</th>\n",
       "      <td>m2</td>\n",
       "      <td>The Godfather</td>\n",
       "    </tr>\n",
       "    <tr>\n",
       "      <th>2</th>\n",
       "      <td>m3</td>\n",
       "      <td>The Untouchables</td>\n",
       "    </tr>\n",
       "    <tr>\n",
       "      <th>3</th>\n",
       "      <td>m4</td>\n",
       "      <td>Enter The Dragon</td>\n",
       "    </tr>\n",
       "    <tr>\n",
       "      <th>4</th>\n",
       "      <td>m5</td>\n",
       "      <td>The Scent of a Woman</td>\n",
       "    </tr>\n",
       "    <tr>\n",
       "      <th>5</th>\n",
       "      <td>m6</td>\n",
       "      <td>The Good, The Bad, and The Ugly</td>\n",
       "    </tr>\n",
       "    <tr>\n",
       "      <th>6</th>\n",
       "      <td>m7</td>\n",
       "      <td>The Bourne Supremacy</td>\n",
       "    </tr>\n",
       "    <tr>\n",
       "      <th>7</th>\n",
       "      <td>m8</td>\n",
       "      <td>For a Few Dollars More</td>\n",
       "    </tr>\n",
       "    <tr>\n",
       "      <th>8</th>\n",
       "      <td>m9</td>\n",
       "      <td>The Golden Rendezvous</td>\n",
       "    </tr>\n",
       "    <tr>\n",
       "      <th>9</th>\n",
       "      <td>m10</td>\n",
       "      <td>Ice Station Zebra</td>\n",
       "    </tr>\n",
       "  </tbody>\n",
       "</table>\n",
       "</div>"
      ],
      "text/plain": [
       "  movie_id                            title\n",
       "0       m1                  The Jungle Book\n",
       "1       m2                    The Godfather\n",
       "2       m3                 The Untouchables\n",
       "3       m4                 Enter The Dragon\n",
       "4       m5             The Scent of a Woman\n",
       "5       m6  The Good, The Bad, and The Ugly\n",
       "6       m7             The Bourne Supremacy\n",
       "7       m8           For a Few Dollars More\n",
       "8       m9            The Golden Rendezvous\n",
       "9      m10                Ice Station Zebra"
      ]
     },
     "execution_count": 13,
     "metadata": {},
     "output_type": "execute_result"
    }
   ],
   "source": [
    "#let us create a movies dataframe\n",
    "movies = {\"movie_id\": [\"m1\",\"m2\",\"m3\",\"m4\",\"m5\",\"m6\",\"m7\",\"m8\",\"m9\",\"m10\"],\n",
    "          \"title\": [\"The Jungle Book\", \"The Godfather\", \"The Untouchables\",\"Enter The Dragon\",\\\n",
    "                   \"The Scent of a Woman\",\"The Good, The Bad, and The Ugly\",\"The Bourne Supremacy\", \\\n",
    "                   \"For a Few Dollars More\", \"The Golden Rendezvous\", \"Ice Station Zebra\"]}\n",
    "movies_df = pd.DataFrame(movies)\n",
    "movies_df"
   ]
  },
  {
   "cell_type": "code",
   "execution_count": 14,
   "metadata": {},
   "outputs": [
    {
     "data": {
      "text/html": [
       "<div>\n",
       "<style scoped>\n",
       "    .dataframe tbody tr th:only-of-type {\n",
       "        vertical-align: middle;\n",
       "    }\n",
       "\n",
       "    .dataframe tbody tr th {\n",
       "        vertical-align: top;\n",
       "    }\n",
       "\n",
       "    .dataframe thead th {\n",
       "        text-align: right;\n",
       "    }\n",
       "</style>\n",
       "<table border=\"1\" class=\"dataframe\">\n",
       "  <thead>\n",
       "    <tr style=\"text-align: right;\">\n",
       "      <th></th>\n",
       "      <th>user_id</th>\n",
       "      <th>movie_id</th>\n",
       "      <th>title</th>\n",
       "      <th>rating</th>\n",
       "    </tr>\n",
       "  </thead>\n",
       "  <tbody>\n",
       "    <tr>\n",
       "      <th>0</th>\n",
       "      <td>1</td>\n",
       "      <td>m1</td>\n",
       "      <td>The Jungle Book</td>\n",
       "      <td>2</td>\n",
       "    </tr>\n",
       "    <tr>\n",
       "      <th>1</th>\n",
       "      <td>2</td>\n",
       "      <td>m1</td>\n",
       "      <td>The Jungle Book</td>\n",
       "      <td>4</td>\n",
       "    </tr>\n",
       "    <tr>\n",
       "      <th>2</th>\n",
       "      <td>3</td>\n",
       "      <td>m1</td>\n",
       "      <td>The Jungle Book</td>\n",
       "      <td>1</td>\n",
       "    </tr>\n",
       "    <tr>\n",
       "      <th>3</th>\n",
       "      <td>1</td>\n",
       "      <td>m2</td>\n",
       "      <td>The Godfather</td>\n",
       "      <td>5</td>\n",
       "    </tr>\n",
       "    <tr>\n",
       "      <th>4</th>\n",
       "      <td>4</td>\n",
       "      <td>m2</td>\n",
       "      <td>The Godfather</td>\n",
       "      <td>4</td>\n",
       "    </tr>\n",
       "    <tr>\n",
       "      <th>5</th>\n",
       "      <td>2</td>\n",
       "      <td>m3</td>\n",
       "      <td>The Untouchables</td>\n",
       "      <td>3</td>\n",
       "    </tr>\n",
       "    <tr>\n",
       "      <th>6</th>\n",
       "      <td>4</td>\n",
       "      <td>m3</td>\n",
       "      <td>The Untouchables</td>\n",
       "      <td>5</td>\n",
       "    </tr>\n",
       "    <tr>\n",
       "      <th>7</th>\n",
       "      <td>2</td>\n",
       "      <td>m4</td>\n",
       "      <td>Enter The Dragon</td>\n",
       "      <td>5</td>\n",
       "    </tr>\n",
       "    <tr>\n",
       "      <th>8</th>\n",
       "      <td>4</td>\n",
       "      <td>m5</td>\n",
       "      <td>The Scent of a Woman</td>\n",
       "      <td>3</td>\n",
       "    </tr>\n",
       "    <tr>\n",
       "      <th>9</th>\n",
       "      <td>4</td>\n",
       "      <td>m6</td>\n",
       "      <td>The Good, The Bad, and The Ugly</td>\n",
       "      <td>1</td>\n",
       "    </tr>\n",
       "  </tbody>\n",
       "</table>\n",
       "</div>"
      ],
      "text/plain": [
       "   user_id movie_id                            title  rating\n",
       "0        1       m1                  The Jungle Book       2\n",
       "1        2       m1                  The Jungle Book       4\n",
       "2        3       m1                  The Jungle Book       1\n",
       "3        1       m2                    The Godfather       5\n",
       "4        4       m2                    The Godfather       4\n",
       "5        2       m3                 The Untouchables       3\n",
       "6        4       m3                 The Untouchables       5\n",
       "7        2       m4                 Enter The Dragon       5\n",
       "8        4       m5             The Scent of a Woman       3\n",
       "9        4       m6  The Good, The Bad, and The Ugly       1"
      ]
     },
     "execution_count": 14,
     "metadata": {},
     "output_type": "execute_result"
    }
   ],
   "source": [
    "#let us merge the two dataframes using movie id as the key\n",
    "merged_df = pd.merge(df, movies_df, on = 'movie_id') #default is an inner join\n",
    "merged_df[['user_id','movie_id','title','rating']]"
   ]
  },
  {
   "cell_type": "code",
   "execution_count": 16,
   "metadata": {},
   "outputs": [
    {
     "data": {
      "image/png": "[encoded data removed]",
      "text/plain": [
       "<Figure size 432x288 with 1 Axes>"
      ]
     },
     "metadata": {},
     "output_type": "display_data"
    }
   ],
   "source": [
    "#let us redraw the bar chart with movie names\n",
    "merged_df.groupby('title').mean()['rating'].plot(kind='bar',y='rating', title=\"Average Rating Per Movie\")\n",
    "plt.ylabel(\"Ratings\")\n",
    "plt.show()"
   ]
  },
  {
   "cell_type": "markdown",
   "metadata": {},
   "source": [
    "Now, let us see how we can read in a CSV file. We will use a method called read_csv. Likewise, we can use a method called read_excel to read in an Excel file. Let us get started. I will be reading in a file called \"iris.csv\" (this has been uploaded to Blackboard). This dataset is often used to demonstrate machine learning algorithms. The goal is to predict the species of a flower based on 4 predictors - sepal length, sepal width, petal length, petal width. "
   ]
  },
  {
   "cell_type": "code",
   "execution_count": 4,
   "metadata": {},
   "outputs": [
    {
     "data": {
      "text/html": [
       "<div>\n",
       "<style scoped>\n",
       "    .dataframe tbody tr th:only-of-type {\n",
       "        vertical-align: middle;\n",
       "    }\n",
       "\n",
       "    .dataframe tbody tr th {\n",
       "        vertical-align: top;\n",
       "    }\n",
       "\n",
       "    .dataframe thead th {\n",
       "        text-align: right;\n",
       "    }\n",
       "</style>\n",
       "<table border=\"1\" class=\"dataframe\">\n",
       "  <thead>\n",
       "    <tr style=\"text-align: right;\">\n",
       "      <th></th>\n",
       "      <th>sepal.length</th>\n",
       "      <th>sepal.width</th>\n",
       "      <th>petal.length</th>\n",
       "      <th>petal.width</th>\n",
       "      <th>variety</th>\n",
       "    </tr>\n",
       "  </thead>\n",
       "  <tbody>\n",
       "    <tr>\n",
       "      <th>0</th>\n",
       "      <td>5.1</td>\n",
       "      <td>3.5</td>\n",
       "      <td>1.4</td>\n",
       "      <td>0.2</td>\n",
       "      <td>Setosa</td>\n",
       "    </tr>\n",
       "    <tr>\n",
       "      <th>1</th>\n",
       "      <td>4.9</td>\n",
       "      <td>3.0</td>\n",
       "      <td>1.4</td>\n",
       "      <td>0.2</td>\n",
       "      <td>Setosa</td>\n",
       "    </tr>\n",
       "    <tr>\n",
       "      <th>2</th>\n",
       "      <td>4.7</td>\n",
       "      <td>3.2</td>\n",
       "      <td>1.3</td>\n",
       "      <td>0.2</td>\n",
       "      <td>Setosa</td>\n",
       "    </tr>\n",
       "    <tr>\n",
       "      <th>3</th>\n",
       "      <td>4.6</td>\n",
       "      <td>3.1</td>\n",
       "      <td>1.5</td>\n",
       "      <td>0.2</td>\n",
       "      <td>Setosa</td>\n",
       "    </tr>\n",
       "    <tr>\n",
       "      <th>4</th>\n",
       "      <td>5.0</td>\n",
       "      <td>3.6</td>\n",
       "      <td>1.4</td>\n",
       "      <td>0.2</td>\n",
       "      <td>Setosa</td>\n",
       "    </tr>\n",
       "  </tbody>\n",
       "</table>\n",
       "</div>"
      ],
      "text/plain": [
       "   sepal.length  sepal.width  petal.length  petal.width variety\n",
       "0           5.1          3.5           1.4          0.2  Setosa\n",
       "1           4.9          3.0           1.4          0.2  Setosa\n",
       "2           4.7          3.2           1.3          0.2  Setosa\n",
       "3           4.6          3.1           1.5          0.2  Setosa\n",
       "4           5.0          3.6           1.4          0.2  Setosa"
      ]
     },
     "execution_count": 4,
     "metadata": {},
     "output_type": "execute_result"
    }
   ],
   "source": [
    "import pandas as pd\n",
    "iris_data = pd.read_csv(\"iris.csv\")\n",
    "#display the first five observations\n",
    "iris_data.head()"
   ]
  },
  {
   "cell_type": "code",
   "execution_count": 5,
   "metadata": {},
   "outputs": [],
   "source": [
    "#Let us rename the column called \"variety\" - we will change it to \"class\"\n",
    "iris_data.rename(columns = {\"variety\": \"class\"}, inplace = True) #inplace is to rename and save the dataframe"
   ]
  },
  {
   "cell_type": "code",
   "execution_count": 4,
   "metadata": {},
   "outputs": [
    {
     "data": {
      "text/html": [
       "<div>\n",
       "<style scoped>\n",
       "    .dataframe tbody tr th:only-of-type {\n",
       "        vertical-align: middle;\n",
       "    }\n",
       "\n",
       "    .dataframe tbody tr th {\n",
       "        vertical-align: top;\n",
       "    }\n",
       "\n",
       "    .dataframe thead th {\n",
       "        text-align: right;\n",
       "    }\n",
       "</style>\n",
       "<table border=\"1\" class=\"dataframe\">\n",
       "  <thead>\n",
       "    <tr style=\"text-align: right;\">\n",
       "      <th></th>\n",
       "      <th>sepal.length</th>\n",
       "      <th>sepal.width</th>\n",
       "      <th>petal.length</th>\n",
       "      <th>petal.width</th>\n",
       "      <th>class</th>\n",
       "    </tr>\n",
       "  </thead>\n",
       "  <tbody>\n",
       "    <tr>\n",
       "      <th>145</th>\n",
       "      <td>6.7</td>\n",
       "      <td>3.0</td>\n",
       "      <td>5.2</td>\n",
       "      <td>2.3</td>\n",
       "      <td>Virginica</td>\n",
       "    </tr>\n",
       "    <tr>\n",
       "      <th>146</th>\n",
       "      <td>6.3</td>\n",
       "      <td>2.5</td>\n",
       "      <td>5.0</td>\n",
       "      <td>1.9</td>\n",
       "      <td>Virginica</td>\n",
       "    </tr>\n",
       "    <tr>\n",
       "      <th>147</th>\n",
       "      <td>6.5</td>\n",
       "      <td>3.0</td>\n",
       "      <td>5.2</td>\n",
       "      <td>2.0</td>\n",
       "      <td>Virginica</td>\n",
       "    </tr>\n",
       "    <tr>\n",
       "      <th>148</th>\n",
       "      <td>6.2</td>\n",
       "      <td>3.4</td>\n",
       "      <td>5.4</td>\n",
       "      <td>2.3</td>\n",
       "      <td>Virginica</td>\n",
       "    </tr>\n",
       "    <tr>\n",
       "      <th>149</th>\n",
       "      <td>5.9</td>\n",
       "      <td>3.0</td>\n",
       "      <td>5.1</td>\n",
       "      <td>1.8</td>\n",
       "      <td>Virginica</td>\n",
       "    </tr>\n",
       "  </tbody>\n",
       "</table>\n",
       "</div>"
      ],
      "text/plain": [
       "     sepal.length  sepal.width  petal.length  petal.width      class\n",
       "145           6.7          3.0           5.2          2.3  Virginica\n",
       "146           6.3          2.5           5.0          1.9  Virginica\n",
       "147           6.5          3.0           5.2          2.0  Virginica\n",
       "148           6.2          3.4           5.4          2.3  Virginica\n",
       "149           5.9          3.0           5.1          1.8  Virginica"
      ]
     },
     "execution_count": 4,
     "metadata": {},
     "output_type": "execute_result"
    }
   ],
   "source": [
    "#let us examine the last 5 observations\n",
    "iris_data.tail()"
   ]
  },
  {
   "cell_type": "code",
   "execution_count": 13,
   "metadata": {},
   "outputs": [
    {
     "data": {
      "text/plain": [
       "(150, 5)"
      ]
     },
     "execution_count": 13,
     "metadata": {},
     "output_type": "execute_result"
    }
   ],
   "source": [
    "#how many rows and columns do we have?\n",
    "iris_data.shape #it should have 150 rows and 5 columns (4 predictors and a class/target to be predicted)"
   ]
  },
  {
   "cell_type": "code",
   "execution_count": 24,
   "metadata": {},
   "outputs": [
    {
     "name": "stdout",
     "output_type": "stream",
     "text": [
      "<class 'pandas.core.frame.DataFrame'>\n",
      "RangeIndex: 150 entries, 0 to 149\n",
      "Data columns (total 5 columns):\n",
      " #   Column        Non-Null Count  Dtype  \n",
      "---  ------        --------------  -----  \n",
      " 0   sepal.length  150 non-null    float64\n",
      " 1   sepal.width   150 non-null    float64\n",
      " 2   petal.length  150 non-null    float64\n",
      " 3   petal.width   150 non-null    float64\n",
      " 4   variety       150 non-null    object \n",
      "dtypes: float64(4), object(1)\n",
      "memory usage: 6.0+ KB\n"
     ]
    }
   ],
   "source": [
    "#get some information about the variables\n",
    "iris_data.info()"
   ]
  },
  {
   "cell_type": "code",
   "execution_count": 26,
   "metadata": {},
   "outputs": [
    {
     "data": {
      "text/html": [
       "<div>\n",
       "<style scoped>\n",
       "    .dataframe tbody tr th:only-of-type {\n",
       "        vertical-align: middle;\n",
       "    }\n",
       "\n",
       "    .dataframe tbody tr th {\n",
       "        vertical-align: top;\n",
       "    }\n",
       "\n",
       "    .dataframe thead th {\n",
       "        text-align: right;\n",
       "    }\n",
       "</style>\n",
       "<table border=\"1\" class=\"dataframe\">\n",
       "  <thead>\n",
       "    <tr style=\"text-align: right;\">\n",
       "      <th></th>\n",
       "      <th>count</th>\n",
       "      <th>mean</th>\n",
       "      <th>std</th>\n",
       "      <th>min</th>\n",
       "      <th>25%</th>\n",
       "      <th>50%</th>\n",
       "      <th>75%</th>\n",
       "      <th>max</th>\n",
       "    </tr>\n",
       "  </thead>\n",
       "  <tbody>\n",
       "    <tr>\n",
       "      <th>sepal.length</th>\n",
       "      <td>150.0</td>\n",
       "      <td>5.843333</td>\n",
       "      <td>0.828066</td>\n",
       "      <td>4.3</td>\n",
       "      <td>5.1</td>\n",
       "      <td>5.80</td>\n",
       "      <td>6.4</td>\n",
       "      <td>7.9</td>\n",
       "    </tr>\n",
       "    <tr>\n",
       "      <th>sepal.width</th>\n",
       "      <td>150.0</td>\n",
       "      <td>3.057333</td>\n",
       "      <td>0.435866</td>\n",
       "      <td>2.0</td>\n",
       "      <td>2.8</td>\n",
       "      <td>3.00</td>\n",
       "      <td>3.3</td>\n",
       "      <td>4.4</td>\n",
       "    </tr>\n",
       "    <tr>\n",
       "      <th>petal.length</th>\n",
       "      <td>150.0</td>\n",
       "      <td>3.758000</td>\n",
       "      <td>1.765298</td>\n",
       "      <td>1.0</td>\n",
       "      <td>1.6</td>\n",
       "      <td>4.35</td>\n",
       "      <td>5.1</td>\n",
       "      <td>6.9</td>\n",
       "    </tr>\n",
       "    <tr>\n",
       "      <th>petal.width</th>\n",
       "      <td>150.0</td>\n",
       "      <td>1.199333</td>\n",
       "      <td>0.762238</td>\n",
       "      <td>0.1</td>\n",
       "      <td>0.3</td>\n",
       "      <td>1.30</td>\n",
       "      <td>1.8</td>\n",
       "      <td>2.5</td>\n",
       "    </tr>\n",
       "  </tbody>\n",
       "</table>\n",
       "</div>"
      ],
      "text/plain": [
       "              count      mean       std  min  25%   50%  75%  max\n",
       "sepal.length  150.0  5.843333  0.828066  4.3  5.1  5.80  6.4  7.9\n",
       "sepal.width   150.0  3.057333  0.435866  2.0  2.8  3.00  3.3  4.4\n",
       "petal.length  150.0  3.758000  1.765298  1.0  1.6  4.35  5.1  6.9\n",
       "petal.width   150.0  1.199333  0.762238  0.1  0.3  1.30  1.8  2.5"
      ]
     },
     "execution_count": 26,
     "metadata": {},
     "output_type": "execute_result"
    }
   ],
   "source": [
    "#let us get some descriptive statistics\n",
    "iris_data.describe().T #same as iris_data.describe().transpose()"
   ]
  },
  {
   "cell_type": "code",
   "execution_count": 9,
   "metadata": {},
   "outputs": [
    {
     "data": {
      "image/png": "[encoded data removed]",
      "text/plain": [
       "<Figure size 432x288 with 4 Axes>"
      ]
     },
     "metadata": {
      "needs_background": "light"
     },
     "output_type": "display_data"
    }
   ],
   "source": [
    "import matplotlib.pyplot as plt\n",
    "#how about a box plot of the variables\n",
    "iris_data.plot(kind='box', subplots = True)\n",
    "plt.show()\n"
   ]
  },
  {
   "cell_type": "code",
   "execution_count": 10,
   "metadata": {},
   "outputs": [
    {
     "data": {
      "text/plain": [
       "{'boxes': 'DarkRed',\n",
       " 'whiskers': 'DarkGreen',\n",
       " 'medians': 'DarkBlue',\n",
       " 'caps': 'Gray'}"
      ]
     },
     "execution_count": 10,
     "metadata": {},
     "output_type": "execute_result"
    }
   ],
   "source": [
    "#Useful to understand how dict works\n",
    "dict(boxes='DarkRed', whiskers='DarkGreen',\\\n",
    "              medians='DarkBlue', caps='Gray')"
   ]
  },
  {
   "cell_type": "code",
   "execution_count": 10,
   "metadata": {},
   "outputs": [
    {
     "data": {
      "image/png": "[encoded data removed]",
      "text/plain": [
       "<Figure size 432x288 with 1 Axes>"
      ]
     },
     "metadata": {
      "needs_background": "light"
     },
     "output_type": "display_data"
    }
   ],
   "source": [
    "#let us try some colors\n",
    "color = dict(boxes='DarkRed', whiskers='DarkGreen',\\\n",
    "              medians='DarkBlue', caps='Gray')\n",
    "iris_data.plot(kind='box', color = color)\n",
    "plt.show()"
   ]
  },
  {
   "cell_type": "code",
   "execution_count": 15,
   "metadata": {},
   "outputs": [
    {
     "data": {
      "text/html": [
       "<div>\n",
       "<style scoped>\n",
       "    .dataframe tbody tr th:only-of-type {\n",
       "        vertical-align: middle;\n",
       "    }\n",
       "\n",
       "    .dataframe tbody tr th {\n",
       "        vertical-align: top;\n",
       "    }\n",
       "\n",
       "    .dataframe thead th {\n",
       "        text-align: right;\n",
       "    }\n",
       "</style>\n",
       "<table border=\"1\" class=\"dataframe\">\n",
       "  <thead>\n",
       "    <tr style=\"text-align: right;\">\n",
       "      <th></th>\n",
       "      <th>sepal.length</th>\n",
       "      <th>sepal.width</th>\n",
       "      <th>petal.length</th>\n",
       "      <th>petal.width</th>\n",
       "    </tr>\n",
       "  </thead>\n",
       "  <tbody>\n",
       "    <tr>\n",
       "      <th>sepal.length</th>\n",
       "      <td>1.000000</td>\n",
       "      <td>-0.117570</td>\n",
       "      <td>0.871754</td>\n",
       "      <td>0.817941</td>\n",
       "    </tr>\n",
       "    <tr>\n",
       "      <th>sepal.width</th>\n",
       "      <td>-0.117570</td>\n",
       "      <td>1.000000</td>\n",
       "      <td>-0.428440</td>\n",
       "      <td>-0.366126</td>\n",
       "    </tr>\n",
       "    <tr>\n",
       "      <th>petal.length</th>\n",
       "      <td>0.871754</td>\n",
       "      <td>-0.428440</td>\n",
       "      <td>1.000000</td>\n",
       "      <td>0.962865</td>\n",
       "    </tr>\n",
       "    <tr>\n",
       "      <th>petal.width</th>\n",
       "      <td>0.817941</td>\n",
       "      <td>-0.366126</td>\n",
       "      <td>0.962865</td>\n",
       "      <td>1.000000</td>\n",
       "    </tr>\n",
       "  </tbody>\n",
       "</table>\n",
       "</div>"
      ],
      "text/plain": [
       "              sepal.length  sepal.width  petal.length  petal.width\n",
       "sepal.length      1.000000    -0.117570      0.871754     0.817941\n",
       "sepal.width      -0.117570     1.000000     -0.428440    -0.366126\n",
       "petal.length      0.871754    -0.428440      1.000000     0.962865\n",
       "petal.width       0.817941    -0.366126      0.962865     1.000000"
      ]
     },
     "execution_count": 15,
     "metadata": {},
     "output_type": "execute_result"
    }
   ],
   "source": [
    "#Are the variables correlated?\n",
    "iris_data.corr()"
   ]
  },
  {
   "cell_type": "code",
   "execution_count": 11,
   "metadata": {},
   "outputs": [
    {
     "data": {
      "image/png": "[encoded data removed]",
      "text/plain": [
       "<Figure size 432x288 with 2 Axes>"
      ]
     },
     "metadata": {
      "needs_background": "light"
     },
     "output_type": "display_data"
    }
   ],
   "source": [
    "#how about a heatmap? I will be using a module called seaborn - you may get it by \n",
    "#typing: pip install seaborn\n",
    "import seaborn as sns\n",
    "sns.heatmap(iris_data.corr(),annot = True)\n",
    "plt.show()"
   ]
  },
  {
   "cell_type": "code",
   "execution_count": 12,
   "metadata": {},
   "outputs": [
    {
     "data": {
      "image/png": "[encoded data removed]",
      "text/plain": [
       "<Figure size 432x288 with 1 Axes>"
      ]
     },
     "metadata": {
      "needs_background": "light"
     },
     "output_type": "display_data"
    }
   ],
   "source": [
    "#let us draw a scatter plot of petal width vs sepallength\n",
    "iris_data.plot(kind = 'scatter', x = 'petal.width', y = 'sepal.length', title = \"A Scatter Plot\", color = 'green')\n",
    "plt.xlabel(\"Petal Width\")\n",
    "plt.ylabel(\"Sepal Length\")\n",
    "plt.show()"
   ]
  },
  {
   "cell_type": "code",
   "execution_count": 13,
   "metadata": {},
   "outputs": [
    {
     "data": {
      "text/plain": [
       "<AxesSubplot:xlabel='petal.width', ylabel='sepal.length'>"
      ]
     },
     "execution_count": 13,
     "metadata": {},
     "output_type": "execute_result"
    },
    {
     "data": {
      "image/png": "[encoded data removed]",
      "text/plain": [
       "<Figure size 432x288 with 1 Axes>"
      ]
     },
     "metadata": {
      "needs_background": "light"
     },
     "output_type": "display_data"
    }
   ],
   "source": [
    "sns.scatterplot(x=\"petal.width\", y=\"sepal.length\", data=iris_data, hue=\"class\")"
   ]
  },
  {
   "cell_type": "code",
   "execution_count": 14,
   "metadata": {},
   "outputs": [
    {
     "data": {
      "text/plain": [
       "Setosa        50\n",
       "Versicolor    50\n",
       "Virginica     50\n",
       "Name: class, dtype: int64"
      ]
     },
     "execution_count": 14,
     "metadata": {},
     "output_type": "execute_result"
    }
   ],
   "source": [
    "#let us count the number of occurrences of each species\n",
    "iris_data['class'].value_counts() #value_counts is used on a Pandas Series"
   ]
  },
  {
   "cell_type": "markdown",
   "metadata": {},
   "source": [
    "We need to convert categorical variables to numbers to perform any type of analysis on our dataset. In this dataset, there is only one categorical variable - the class that we have to predict. We need to convert the three categories to numbers (e.g., 0, 1, and 2). We will look at 3 approaches for doing this......"
   ]
  },
  {
   "cell_type": "code",
   "execution_count": 8,
   "metadata": {},
   "outputs": [
    {
     "data": {
      "text/html": [
       "<div>\n",
       "<style scoped>\n",
       "    .dataframe tbody tr th:only-of-type {\n",
       "        vertical-align: middle;\n",
       "    }\n",
       "\n",
       "    .dataframe tbody tr th {\n",
       "        vertical-align: top;\n",
       "    }\n",
       "\n",
       "    .dataframe thead th {\n",
       "        text-align: right;\n",
       "    }\n",
       "</style>\n",
       "<table border=\"1\" class=\"dataframe\">\n",
       "  <thead>\n",
       "    <tr style=\"text-align: right;\">\n",
       "      <th></th>\n",
       "      <th>sepal.length</th>\n",
       "      <th>sepal.width</th>\n",
       "      <th>petal.length</th>\n",
       "      <th>petal.width</th>\n",
       "      <th>class</th>\n",
       "    </tr>\n",
       "  </thead>\n",
       "  <tbody>\n",
       "    <tr>\n",
       "      <th>0</th>\n",
       "      <td>5.1</td>\n",
       "      <td>3.5</td>\n",
       "      <td>1.4</td>\n",
       "      <td>0.2</td>\n",
       "      <td>2</td>\n",
       "    </tr>\n",
       "    <tr>\n",
       "      <th>1</th>\n",
       "      <td>4.9</td>\n",
       "      <td>3.0</td>\n",
       "      <td>1.4</td>\n",
       "      <td>0.2</td>\n",
       "      <td>2</td>\n",
       "    </tr>\n",
       "    <tr>\n",
       "      <th>2</th>\n",
       "      <td>4.7</td>\n",
       "      <td>3.2</td>\n",
       "      <td>1.3</td>\n",
       "      <td>0.2</td>\n",
       "      <td>2</td>\n",
       "    </tr>\n",
       "    <tr>\n",
       "      <th>3</th>\n",
       "      <td>4.6</td>\n",
       "      <td>3.1</td>\n",
       "      <td>1.5</td>\n",
       "      <td>0.2</td>\n",
       "      <td>2</td>\n",
       "    </tr>\n",
       "    <tr>\n",
       "      <th>4</th>\n",
       "      <td>5.0</td>\n",
       "      <td>3.6</td>\n",
       "      <td>1.4</td>\n",
       "      <td>0.2</td>\n",
       "      <td>2</td>\n",
       "    </tr>\n",
       "  </tbody>\n",
       "</table>\n",
       "</div>"
      ],
      "text/plain": [
       "   sepal.length  sepal.width  petal.length  petal.width  class\n",
       "0           5.1          3.5           1.4          0.2      2\n",
       "1           4.9          3.0           1.4          0.2      2\n",
       "2           4.7          3.2           1.3          0.2      2\n",
       "3           4.6          3.1           1.5          0.2      2\n",
       "4           5.0          3.6           1.4          0.2      2"
      ]
     },
     "execution_count": 8,
     "metadata": {},
     "output_type": "execute_result"
    }
   ],
   "source": [
    "#using a dictionary with map\n",
    "iris_data_copy = iris_data.copy()\n",
    "iris_data_copy['class'] = iris_data['class'].map({'Virginica': 0, 'Versicolor': 1, 'Setosa': 2})\n",
    "iris_data_copy.head()\n",
    "#iris_data_copy['class'].value_counts()"
   ]
  },
  {
   "cell_type": "code",
   "execution_count": 9,
   "metadata": {},
   "outputs": [
    {
     "data": {
      "text/html": [
       "<div>\n",
       "<style scoped>\n",
       "    .dataframe tbody tr th:only-of-type {\n",
       "        vertical-align: middle;\n",
       "    }\n",
       "\n",
       "    .dataframe tbody tr th {\n",
       "        vertical-align: top;\n",
       "    }\n",
       "\n",
       "    .dataframe thead th {\n",
       "        text-align: right;\n",
       "    }\n",
       "</style>\n",
       "<table border=\"1\" class=\"dataframe\">\n",
       "  <thead>\n",
       "    <tr style=\"text-align: right;\">\n",
       "      <th></th>\n",
       "      <th>sepal.length</th>\n",
       "      <th>sepal.width</th>\n",
       "      <th>petal.length</th>\n",
       "      <th>petal.width</th>\n",
       "      <th>class</th>\n",
       "    </tr>\n",
       "  </thead>\n",
       "  <tbody>\n",
       "    <tr>\n",
       "      <th>0</th>\n",
       "      <td>5.1</td>\n",
       "      <td>3.5</td>\n",
       "      <td>1.4</td>\n",
       "      <td>0.2</td>\n",
       "      <td>0</td>\n",
       "    </tr>\n",
       "    <tr>\n",
       "      <th>1</th>\n",
       "      <td>4.9</td>\n",
       "      <td>3.0</td>\n",
       "      <td>1.4</td>\n",
       "      <td>0.2</td>\n",
       "      <td>0</td>\n",
       "    </tr>\n",
       "    <tr>\n",
       "      <th>2</th>\n",
       "      <td>4.7</td>\n",
       "      <td>3.2</td>\n",
       "      <td>1.3</td>\n",
       "      <td>0.2</td>\n",
       "      <td>0</td>\n",
       "    </tr>\n",
       "    <tr>\n",
       "      <th>3</th>\n",
       "      <td>4.6</td>\n",
       "      <td>3.1</td>\n",
       "      <td>1.5</td>\n",
       "      <td>0.2</td>\n",
       "      <td>0</td>\n",
       "    </tr>\n",
       "    <tr>\n",
       "      <th>4</th>\n",
       "      <td>5.0</td>\n",
       "      <td>3.6</td>\n",
       "      <td>1.4</td>\n",
       "      <td>0.2</td>\n",
       "      <td>0</td>\n",
       "    </tr>\n",
       "  </tbody>\n",
       "</table>\n",
       "</div>"
      ],
      "text/plain": [
       "   sepal.length  sepal.width  petal.length  petal.width  class\n",
       "0           5.1          3.5           1.4          0.2      0\n",
       "1           4.9          3.0           1.4          0.2      0\n",
       "2           4.7          3.2           1.3          0.2      0\n",
       "3           4.6          3.1           1.5          0.2      0\n",
       "4           5.0          3.6           1.4          0.2      0"
      ]
     },
     "execution_count": 9,
     "metadata": {},
     "output_type": "execute_result"
    }
   ],
   "source": [
    "#using category accessor code\n",
    "iris_data_copy1 = iris_data.copy()\n",
    "iris_data_copy1['class'] = iris_data_copy1['class'].astype('category')\n",
    "iris_data_copy1['class'] = iris_data_copy1['class'].cat.codes\n",
    "iris_data_copy1.head()\n",
    "#iris_data_copy1['class'].value_counts()"
   ]
  },
  {
   "cell_type": "code",
   "execution_count": 10,
   "metadata": {},
   "outputs": [
    {
     "data": {
      "text/html": [
       "<div>\n",
       "<style scoped>\n",
       "    .dataframe tbody tr th:only-of-type {\n",
       "        vertical-align: middle;\n",
       "    }\n",
       "\n",
       "    .dataframe tbody tr th {\n",
       "        vertical-align: top;\n",
       "    }\n",
       "\n",
       "    .dataframe thead th {\n",
       "        text-align: right;\n",
       "    }\n",
       "</style>\n",
       "<table border=\"1\" class=\"dataframe\">\n",
       "  <thead>\n",
       "    <tr style=\"text-align: right;\">\n",
       "      <th></th>\n",
       "      <th>sepal.length</th>\n",
       "      <th>sepal.width</th>\n",
       "      <th>petal.length</th>\n",
       "      <th>petal.width</th>\n",
       "      <th>class</th>\n",
       "    </tr>\n",
       "  </thead>\n",
       "  <tbody>\n",
       "    <tr>\n",
       "      <th>0</th>\n",
       "      <td>5.1</td>\n",
       "      <td>3.5</td>\n",
       "      <td>1.4</td>\n",
       "      <td>0.2</td>\n",
       "      <td>0</td>\n",
       "    </tr>\n",
       "    <tr>\n",
       "      <th>1</th>\n",
       "      <td>4.9</td>\n",
       "      <td>3.0</td>\n",
       "      <td>1.4</td>\n",
       "      <td>0.2</td>\n",
       "      <td>0</td>\n",
       "    </tr>\n",
       "    <tr>\n",
       "      <th>2</th>\n",
       "      <td>4.7</td>\n",
       "      <td>3.2</td>\n",
       "      <td>1.3</td>\n",
       "      <td>0.2</td>\n",
       "      <td>0</td>\n",
       "    </tr>\n",
       "    <tr>\n",
       "      <th>3</th>\n",
       "      <td>4.6</td>\n",
       "      <td>3.1</td>\n",
       "      <td>1.5</td>\n",
       "      <td>0.2</td>\n",
       "      <td>0</td>\n",
       "    </tr>\n",
       "    <tr>\n",
       "      <th>4</th>\n",
       "      <td>5.0</td>\n",
       "      <td>3.6</td>\n",
       "      <td>1.4</td>\n",
       "      <td>0.2</td>\n",
       "      <td>0</td>\n",
       "    </tr>\n",
       "  </tbody>\n",
       "</table>\n",
       "</div>"
      ],
      "text/plain": [
       "   sepal.length  sepal.width  petal.length  petal.width  class\n",
       "0           5.1          3.5           1.4          0.2      0\n",
       "1           4.9          3.0           1.4          0.2      0\n",
       "2           4.7          3.2           1.3          0.2      0\n",
       "3           4.6          3.1           1.5          0.2      0\n",
       "4           5.0          3.6           1.4          0.2      0"
      ]
     },
     "execution_count": 10,
     "metadata": {},
     "output_type": "execute_result"
    }
   ],
   "source": [
    "#Third approach: Using a LabelEncoder\n",
    "from sklearn.preprocessing import LabelEncoder\n",
    "encoder = LabelEncoder()\n",
    "iris_data_copy2 = iris_data.copy()\n",
    "iris_data_copy2['class'] = encoder.fit_transform(iris_data_copy2['class'])\n",
    "#iris_data_copy2['class'].value_counts()\n",
    "iris_data_copy2.head()"
   ]
  },
  {
   "cell_type": "code",
   "execution_count": 12,
   "metadata": {},
   "outputs": [
    {
     "data": {
      "image/png": "[encoded data removed]",
      "text/plain": [
       "<Figure size 432x288 with 1 Axes>"
      ]
     },
     "metadata": {
      "needs_background": "light"
     },
     "output_type": "display_data"
    }
   ],
   "source": [
    "#how about drawing some histograms\n",
    "#only the predictors will be used\n",
    "iris_data_predictors = iris_data_copy2[['sepal.length','sepal.width','petal.length','petal.width']]\n",
    "iris_data_predictors.plot.hist()\n",
    "plt.show()"
   ]
  },
  {
   "cell_type": "code",
   "execution_count": 13,
   "metadata": {},
   "outputs": [
    {
     "data": {
      "image/png": "[encoded data removed]",
      "text/plain": [
       "<Figure size 432x288 with 1 Axes>"
      ]
     },
     "metadata": {
      "needs_background": "light"
     },
     "output_type": "display_data"
    }
   ],
   "source": [
    "iris_data_predictors.plot.hist(stacked=True, alpha = 0.7) #alpha is for transparency\n",
    "plt.show()"
   ]
  },
  {
   "cell_type": "code",
   "execution_count": 14,
   "metadata": {},
   "outputs": [
    {
     "data": {
      "image/png": "[encoded data removed]",
      "text/plain": [
       "<Figure size 432x288 with 1 Axes>"
      ]
     },
     "metadata": {
      "needs_background": "light"
     },
     "output_type": "display_data"
    }
   ],
   "source": [
    "#what is I am interested in just one predictor?\n",
    "iris_data_predictors['sepal.width'].plot.hist()\n",
    "plt.show()"
   ]
  },
  {
   "cell_type": "code",
   "execution_count": 15,
   "metadata": {},
   "outputs": [
    {
     "data": {
      "image/png": "[encoded data removed]",
      "text/plain": [
       "<Figure size 432x288 with 1 Axes>"
      ]
     },
     "metadata": {
      "needs_background": "light"
     },
     "output_type": "display_data"
    }
   ],
   "source": [
    "#how about a density plot\n",
    "iris_data_predictors['sepal.width'].plot.kde()\n",
    "plt.show()"
   ]
  },
  {
   "cell_type": "code",
   "execution_count": 16,
   "metadata": {},
   "outputs": [
    {
     "data": {
      "image/png": "[encoded data removed]",
      "text/plain": [
       "<Figure size 1080x1080 with 25 Axes>"
      ]
     },
     "metadata": {
      "needs_background": "light"
     },
     "output_type": "display_data"
    }
   ],
   "source": [
    "#Let us get a scatter matrix \n",
    "from pandas.plotting import scatter_matrix\n",
    "scatter_matrix(iris_data_copy2, figsize=(15,15), alpha = 0.4, diagonal = 'kde', color = 'red')\n",
    "plt.show()"
   ]
  },
  {
   "cell_type": "code",
   "execution_count": 18,
   "metadata": {},
   "outputs": [
    {
     "data": {
      "image/png": "[encoded data removed]",
      "text/plain": [
       "<Figure size 432x288 with 1 Axes>"
      ]
     },
     "metadata": {
      "needs_background": "light"
     },
     "output_type": "display_data"
    }
   ],
   "source": [
    "#let us look at a cumulative distribution\n",
    "iris_data_copy1.plot(y='petal.width', kind='hist', bins=30,range=(0,3), cumulative=True, density=True)\n",
    "plt.show()"
   ]
  },
  {
   "cell_type": "code",
   "execution_count": 19,
   "metadata": {},
   "outputs": [
    {
     "data": {
      "text/html": [
       "<div>\n",
       "<style scoped>\n",
       "    .dataframe tbody tr th:only-of-type {\n",
       "        vertical-align: middle;\n",
       "    }\n",
       "\n",
       "    .dataframe tbody tr th {\n",
       "        vertical-align: top;\n",
       "    }\n",
       "\n",
       "    .dataframe thead th {\n",
       "        text-align: right;\n",
       "    }\n",
       "</style>\n",
       "<table border=\"1\" class=\"dataframe\">\n",
       "  <thead>\n",
       "    <tr style=\"text-align: right;\">\n",
       "      <th></th>\n",
       "      <th>Name</th>\n",
       "      <th>Age</th>\n",
       "      <th>Income</th>\n",
       "      <th>CreditHistory</th>\n",
       "      <th>Profession</th>\n",
       "    </tr>\n",
       "  </thead>\n",
       "  <tbody>\n",
       "    <tr>\n",
       "      <th>0</th>\n",
       "      <td>Doug Walters</td>\n",
       "      <td>37.0</td>\n",
       "      <td>100000.0</td>\n",
       "      <td>Good</td>\n",
       "      <td>Programmer</td>\n",
       "    </tr>\n",
       "    <tr>\n",
       "      <th>1</th>\n",
       "      <td>Viv Richards</td>\n",
       "      <td>34.0</td>\n",
       "      <td>112000.0</td>\n",
       "      <td>Good</td>\n",
       "      <td>Data Analyst</td>\n",
       "    </tr>\n",
       "    <tr>\n",
       "      <th>2</th>\n",
       "      <td>Ian Chappell</td>\n",
       "      <td>NaN</td>\n",
       "      <td>101000.0</td>\n",
       "      <td>Good</td>\n",
       "      <td>Data Analyst</td>\n",
       "    </tr>\n",
       "    <tr>\n",
       "      <th>3</th>\n",
       "      <td>Richard Hadlee</td>\n",
       "      <td>53.0</td>\n",
       "      <td>95000.0</td>\n",
       "      <td>Bad</td>\n",
       "      <td>Programmer</td>\n",
       "    </tr>\n",
       "    <tr>\n",
       "      <th>4</th>\n",
       "      <td>Andy Roberts</td>\n",
       "      <td>61.0</td>\n",
       "      <td>99000.0</td>\n",
       "      <td>NaN</td>\n",
       "      <td>Programmer</td>\n",
       "    </tr>\n",
       "  </tbody>\n",
       "</table>\n",
       "</div>"
      ],
      "text/plain": [
       "             Name   Age    Income CreditHistory    Profession\n",
       "0    Doug Walters  37.0  100000.0          Good    Programmer\n",
       "1    Viv Richards  34.0  112000.0          Good  Data Analyst\n",
       "2    Ian Chappell   NaN  101000.0          Good  Data Analyst\n",
       "3  Richard Hadlee  53.0   95000.0           Bad    Programmer\n",
       "4    Andy Roberts  61.0   99000.0           NaN    Programmer"
      ]
     },
     "execution_count": 19,
     "metadata": {},
     "output_type": "execute_result"
    }
   ],
   "source": [
    "#how do we deal with missing values? I will be using a different toy dataset for this\n",
    "#let us first create a dataframe with some missing values\n",
    "import numpy as np\n",
    "customers = {\"Name\": [\"Doug Walters\", \"Viv Richards\", \"Ian Chappell\", \"Richard Hadlee\", \"Andy Roberts\"],\n",
    "             \"Age\": [37, 34, np.nan, 53, 61],\n",
    "             \"Income\": [100000.00, 112000.00, 101000.00, 95000.00, 99000.00],\n",
    "             \"CreditHistory\": [\"Good\", \"Good\", \"Good\", \"Bad\", np.nan],\n",
    "             \"Profession\": [\"Programmer\", \"Data Analyst\", \"Data Analyst\", \"Programmer\", \"Programmer\"]}\n",
    "#Note: np.nan is used to represent a missing value\n",
    "customers_df = pd.DataFrame(customers)\n",
    "customers_df"
   ]
  },
  {
   "cell_type": "code",
   "execution_count": 21,
   "metadata": {},
   "outputs": [
    {
     "data": {
      "text/html": [
       "<div>\n",
       "<style scoped>\n",
       "    .dataframe tbody tr th:only-of-type {\n",
       "        vertical-align: middle;\n",
       "    }\n",
       "\n",
       "    .dataframe tbody tr th {\n",
       "        vertical-align: top;\n",
       "    }\n",
       "\n",
       "    .dataframe thead th {\n",
       "        text-align: right;\n",
       "    }\n",
       "</style>\n",
       "<table border=\"1\" class=\"dataframe\">\n",
       "  <thead>\n",
       "    <tr style=\"text-align: right;\">\n",
       "      <th></th>\n",
       "      <th>Age</th>\n",
       "      <th>CreditHistory</th>\n",
       "    </tr>\n",
       "  </thead>\n",
       "  <tbody>\n",
       "    <tr>\n",
       "      <th>0</th>\n",
       "      <td>37.0</td>\n",
       "      <td>Good</td>\n",
       "    </tr>\n",
       "    <tr>\n",
       "      <th>1</th>\n",
       "      <td>34.0</td>\n",
       "      <td>Good</td>\n",
       "    </tr>\n",
       "    <tr>\n",
       "      <th>2</th>\n",
       "      <td>NaN</td>\n",
       "      <td>Good</td>\n",
       "    </tr>\n",
       "    <tr>\n",
       "      <th>3</th>\n",
       "      <td>53.0</td>\n",
       "      <td>Bad</td>\n",
       "    </tr>\n",
       "    <tr>\n",
       "      <th>4</th>\n",
       "      <td>61.0</td>\n",
       "      <td>NaN</td>\n",
       "    </tr>\n",
       "  </tbody>\n",
       "</table>\n",
       "</div>"
      ],
      "text/plain": [
       "    Age CreditHistory\n",
       "0  37.0          Good\n",
       "1  34.0          Good\n",
       "2   NaN          Good\n",
       "3  53.0           Bad\n",
       "4  61.0           NaN"
      ]
     },
     "execution_count": 21,
     "metadata": {},
     "output_type": "execute_result"
    }
   ],
   "source": [
    "#let us display all columns that have NaNs\n",
    "customers_df.loc[:, customers_df.isnull().any()]"
   ]
  },
  {
   "cell_type": "code",
   "execution_count": 88,
   "metadata": {},
   "outputs": [
    {
     "data": {
      "text/html": [
       "<div>\n",
       "<style scoped>\n",
       "    .dataframe tbody tr th:only-of-type {\n",
       "        vertical-align: middle;\n",
       "    }\n",
       "\n",
       "    .dataframe tbody tr th {\n",
       "        vertical-align: top;\n",
       "    }\n",
       "\n",
       "    .dataframe thead th {\n",
       "        text-align: right;\n",
       "    }\n",
       "</style>\n",
       "<table border=\"1\" class=\"dataframe\">\n",
       "  <thead>\n",
       "    <tr style=\"text-align: right;\">\n",
       "      <th></th>\n",
       "      <th>Income</th>\n",
       "      <th>Name</th>\n",
       "      <th>Profession</th>\n",
       "    </tr>\n",
       "  </thead>\n",
       "  <tbody>\n",
       "    <tr>\n",
       "      <th>0</th>\n",
       "      <td>100000.0</td>\n",
       "      <td>Doug Walters</td>\n",
       "      <td>Programmer</td>\n",
       "    </tr>\n",
       "    <tr>\n",
       "      <th>1</th>\n",
       "      <td>112000.0</td>\n",
       "      <td>Viv Richards</td>\n",
       "      <td>Data Analyst</td>\n",
       "    </tr>\n",
       "    <tr>\n",
       "      <th>2</th>\n",
       "      <td>101000.0</td>\n",
       "      <td>Ian Chappell</td>\n",
       "      <td>Data Analyst</td>\n",
       "    </tr>\n",
       "    <tr>\n",
       "      <th>3</th>\n",
       "      <td>95000.0</td>\n",
       "      <td>Richard Hadlee</td>\n",
       "      <td>Programmer</td>\n",
       "    </tr>\n",
       "    <tr>\n",
       "      <th>4</th>\n",
       "      <td>99000.0</td>\n",
       "      <td>Andy Roberts</td>\n",
       "      <td>Programmer</td>\n",
       "    </tr>\n",
       "  </tbody>\n",
       "</table>\n",
       "</div>"
      ],
      "text/plain": [
       "     Income            Name    Profession\n",
       "0  100000.0    Doug Walters    Programmer\n",
       "1  112000.0    Viv Richards  Data Analyst\n",
       "2  101000.0    Ian Chappell  Data Analyst\n",
       "3   95000.0  Richard Hadlee    Programmer\n",
       "4   99000.0    Andy Roberts    Programmer"
      ]
     },
     "execution_count": 88,
     "metadata": {},
     "output_type": "execute_result"
    }
   ],
   "source": [
    "#select columns that don't have NaNs\n",
    "customers_df.loc[:, customers_df.notnull().all()]"
   ]
  },
  {
   "cell_type": "code",
   "execution_count": 22,
   "metadata": {},
   "outputs": [
    {
     "data": {
      "text/html": [
       "<div>\n",
       "<style scoped>\n",
       "    .dataframe tbody tr th:only-of-type {\n",
       "        vertical-align: middle;\n",
       "    }\n",
       "\n",
       "    .dataframe tbody tr th {\n",
       "        vertical-align: top;\n",
       "    }\n",
       "\n",
       "    .dataframe thead th {\n",
       "        text-align: right;\n",
       "    }\n",
       "</style>\n",
       "<table border=\"1\" class=\"dataframe\">\n",
       "  <thead>\n",
       "    <tr style=\"text-align: right;\">\n",
       "      <th></th>\n",
       "      <th>Name</th>\n",
       "      <th>Age</th>\n",
       "      <th>Income</th>\n",
       "      <th>CreditHistory</th>\n",
       "      <th>Profession</th>\n",
       "    </tr>\n",
       "  </thead>\n",
       "  <tbody>\n",
       "    <tr>\n",
       "      <th>0</th>\n",
       "      <td>Doug Walters</td>\n",
       "      <td>37.0</td>\n",
       "      <td>100000.0</td>\n",
       "      <td>Good</td>\n",
       "      <td>Programmer</td>\n",
       "    </tr>\n",
       "    <tr>\n",
       "      <th>1</th>\n",
       "      <td>Viv Richards</td>\n",
       "      <td>34.0</td>\n",
       "      <td>112000.0</td>\n",
       "      <td>Good</td>\n",
       "      <td>Data Analyst</td>\n",
       "    </tr>\n",
       "    <tr>\n",
       "      <th>3</th>\n",
       "      <td>Richard Hadlee</td>\n",
       "      <td>53.0</td>\n",
       "      <td>95000.0</td>\n",
       "      <td>Bad</td>\n",
       "      <td>Programmer</td>\n",
       "    </tr>\n",
       "  </tbody>\n",
       "</table>\n",
       "</div>"
      ],
      "text/plain": [
       "             Name   Age    Income CreditHistory    Profession\n",
       "0    Doug Walters  37.0  100000.0          Good    Programmer\n",
       "1    Viv Richards  34.0  112000.0          Good  Data Analyst\n",
       "3  Richard Hadlee  53.0   95000.0           Bad    Programmer"
      ]
     },
     "execution_count": 22,
     "metadata": {},
     "output_type": "execute_result"
    }
   ],
   "source": [
    "#deleting rows that have NaNs\n",
    "customers_df.dropna(axis = 0) #axis = 0 is for rows, axis = 1 would drop columns (see next example)"
   ]
  },
  {
   "cell_type": "code",
   "execution_count": 23,
   "metadata": {},
   "outputs": [
    {
     "data": {
      "text/html": [
       "<div>\n",
       "<style scoped>\n",
       "    .dataframe tbody tr th:only-of-type {\n",
       "        vertical-align: middle;\n",
       "    }\n",
       "\n",
       "    .dataframe tbody tr th {\n",
       "        vertical-align: top;\n",
       "    }\n",
       "\n",
       "    .dataframe thead th {\n",
       "        text-align: right;\n",
       "    }\n",
       "</style>\n",
       "<table border=\"1\" class=\"dataframe\">\n",
       "  <thead>\n",
       "    <tr style=\"text-align: right;\">\n",
       "      <th></th>\n",
       "      <th>Name</th>\n",
       "      <th>Income</th>\n",
       "      <th>Profession</th>\n",
       "    </tr>\n",
       "  </thead>\n",
       "  <tbody>\n",
       "    <tr>\n",
       "      <th>0</th>\n",
       "      <td>Doug Walters</td>\n",
       "      <td>100000.0</td>\n",
       "      <td>Programmer</td>\n",
       "    </tr>\n",
       "    <tr>\n",
       "      <th>1</th>\n",
       "      <td>Viv Richards</td>\n",
       "      <td>112000.0</td>\n",
       "      <td>Data Analyst</td>\n",
       "    </tr>\n",
       "    <tr>\n",
       "      <th>2</th>\n",
       "      <td>Ian Chappell</td>\n",
       "      <td>101000.0</td>\n",
       "      <td>Data Analyst</td>\n",
       "    </tr>\n",
       "    <tr>\n",
       "      <th>3</th>\n",
       "      <td>Richard Hadlee</td>\n",
       "      <td>95000.0</td>\n",
       "      <td>Programmer</td>\n",
       "    </tr>\n",
       "    <tr>\n",
       "      <th>4</th>\n",
       "      <td>Andy Roberts</td>\n",
       "      <td>99000.0</td>\n",
       "      <td>Programmer</td>\n",
       "    </tr>\n",
       "  </tbody>\n",
       "</table>\n",
       "</div>"
      ],
      "text/plain": [
       "             Name    Income    Profession\n",
       "0    Doug Walters  100000.0    Programmer\n",
       "1    Viv Richards  112000.0  Data Analyst\n",
       "2    Ian Chappell  101000.0  Data Analyst\n",
       "3  Richard Hadlee   95000.0    Programmer\n",
       "4    Andy Roberts   99000.0    Programmer"
      ]
     },
     "execution_count": 23,
     "metadata": {},
     "output_type": "execute_result"
    }
   ],
   "source": [
    "customers_df.dropna(axis = 1)"
   ]
  },
  {
   "cell_type": "code",
   "execution_count": 24,
   "metadata": {},
   "outputs": [
    {
     "data": {
      "text/html": [
       "<div>\n",
       "<style scoped>\n",
       "    .dataframe tbody tr th:only-of-type {\n",
       "        vertical-align: middle;\n",
       "    }\n",
       "\n",
       "    .dataframe tbody tr th {\n",
       "        vertical-align: top;\n",
       "    }\n",
       "\n",
       "    .dataframe thead th {\n",
       "        text-align: right;\n",
       "    }\n",
       "</style>\n",
       "<table border=\"1\" class=\"dataframe\">\n",
       "  <thead>\n",
       "    <tr style=\"text-align: right;\">\n",
       "      <th></th>\n",
       "      <th>Name</th>\n",
       "      <th>Age</th>\n",
       "      <th>Income</th>\n",
       "      <th>CreditHistory</th>\n",
       "      <th>Profession</th>\n",
       "    </tr>\n",
       "  </thead>\n",
       "  <tbody>\n",
       "    <tr>\n",
       "      <th>0</th>\n",
       "      <td>Doug Walters</td>\n",
       "      <td>37.00</td>\n",
       "      <td>100000.0</td>\n",
       "      <td>Good</td>\n",
       "      <td>Programmer</td>\n",
       "    </tr>\n",
       "    <tr>\n",
       "      <th>1</th>\n",
       "      <td>Viv Richards</td>\n",
       "      <td>34.00</td>\n",
       "      <td>112000.0</td>\n",
       "      <td>Good</td>\n",
       "      <td>Data Analyst</td>\n",
       "    </tr>\n",
       "    <tr>\n",
       "      <th>2</th>\n",
       "      <td>Ian Chappell</td>\n",
       "      <td>46.25</td>\n",
       "      <td>101000.0</td>\n",
       "      <td>Good</td>\n",
       "      <td>Data Analyst</td>\n",
       "    </tr>\n",
       "    <tr>\n",
       "      <th>3</th>\n",
       "      <td>Richard Hadlee</td>\n",
       "      <td>53.00</td>\n",
       "      <td>95000.0</td>\n",
       "      <td>Bad</td>\n",
       "      <td>Programmer</td>\n",
       "    </tr>\n",
       "    <tr>\n",
       "      <th>4</th>\n",
       "      <td>Andy Roberts</td>\n",
       "      <td>61.00</td>\n",
       "      <td>99000.0</td>\n",
       "      <td>NaN</td>\n",
       "      <td>Programmer</td>\n",
       "    </tr>\n",
       "  </tbody>\n",
       "</table>\n",
       "</div>"
      ],
      "text/plain": [
       "             Name    Age    Income CreditHistory    Profession\n",
       "0    Doug Walters  37.00  100000.0          Good    Programmer\n",
       "1    Viv Richards  34.00  112000.0          Good  Data Analyst\n",
       "2    Ian Chappell  46.25  101000.0          Good  Data Analyst\n",
       "3  Richard Hadlee  53.00   95000.0           Bad    Programmer\n",
       "4    Andy Roberts  61.00   99000.0           NaN    Programmer"
      ]
     },
     "execution_count": 24,
     "metadata": {},
     "output_type": "execute_result"
    }
   ],
   "source": [
    "#let us replace the missing age with the mean age of customers\n",
    "mean = customers_df.Age.mean()\n",
    "customers_df['Age'] = customers_df['Age'].fillna(mean)\n",
    "customers_df"
   ]
  },
  {
   "cell_type": "code",
   "execution_count": 25,
   "metadata": {},
   "outputs": [
    {
     "data": {
      "text/html": [
       "<div>\n",
       "<style scoped>\n",
       "    .dataframe tbody tr th:only-of-type {\n",
       "        vertical-align: middle;\n",
       "    }\n",
       "\n",
       "    .dataframe tbody tr th {\n",
       "        vertical-align: top;\n",
       "    }\n",
       "\n",
       "    .dataframe thead th {\n",
       "        text-align: right;\n",
       "    }\n",
       "</style>\n",
       "<table border=\"1\" class=\"dataframe\">\n",
       "  <thead>\n",
       "    <tr style=\"text-align: right;\">\n",
       "      <th></th>\n",
       "      <th>Name</th>\n",
       "      <th>Age</th>\n",
       "      <th>Income</th>\n",
       "      <th>CreditHistory</th>\n",
       "      <th>Profession</th>\n",
       "    </tr>\n",
       "  </thead>\n",
       "  <tbody>\n",
       "    <tr>\n",
       "      <th>0</th>\n",
       "      <td>Doug Walters</td>\n",
       "      <td>37.0</td>\n",
       "      <td>100000.0</td>\n",
       "      <td>Good</td>\n",
       "      <td>Programmer</td>\n",
       "    </tr>\n",
       "    <tr>\n",
       "      <th>1</th>\n",
       "      <td>Viv Richards</td>\n",
       "      <td>34.0</td>\n",
       "      <td>112000.0</td>\n",
       "      <td>Good</td>\n",
       "      <td>Data Analyst</td>\n",
       "    </tr>\n",
       "    <tr>\n",
       "      <th>2</th>\n",
       "      <td>Ian Chappell</td>\n",
       "      <td>NaN</td>\n",
       "      <td>101000.0</td>\n",
       "      <td>Good</td>\n",
       "      <td>Data Analyst</td>\n",
       "    </tr>\n",
       "    <tr>\n",
       "      <th>3</th>\n",
       "      <td>Richard Hadlee</td>\n",
       "      <td>53.0</td>\n",
       "      <td>95000.0</td>\n",
       "      <td>Bad</td>\n",
       "      <td>Programmer</td>\n",
       "    </tr>\n",
       "    <tr>\n",
       "      <th>4</th>\n",
       "      <td>Andy Roberts</td>\n",
       "      <td>61.0</td>\n",
       "      <td>99000.0</td>\n",
       "      <td>NaN</td>\n",
       "      <td>Programmer</td>\n",
       "    </tr>\n",
       "  </tbody>\n",
       "</table>\n",
       "</div>"
      ],
      "text/plain": [
       "             Name   Age    Income CreditHistory    Profession\n",
       "0    Doug Walters  37.0  100000.0          Good    Programmer\n",
       "1    Viv Richards  34.0  112000.0          Good  Data Analyst\n",
       "2    Ian Chappell   NaN  101000.0          Good  Data Analyst\n",
       "3  Richard Hadlee  53.0   95000.0           Bad    Programmer\n",
       "4    Andy Roberts  61.0   99000.0           NaN    Programmer"
      ]
     },
     "execution_count": 25,
     "metadata": {},
     "output_type": "execute_result"
    }
   ],
   "source": [
    "#Set age of Chappell back to nan\n",
    "import numpy as np\n",
    "customers_df.loc[customers_df['Name'] == \"Ian Chappell\", 'Age'] = np.nan\n",
    "customers_df"
   ]
  },
  {
   "cell_type": "code",
   "execution_count": 26,
   "metadata": {},
   "outputs": [
    {
     "data": {
      "text/html": [
       "<div>\n",
       "<style scoped>\n",
       "    .dataframe tbody tr th:only-of-type {\n",
       "        vertical-align: middle;\n",
       "    }\n",
       "\n",
       "    .dataframe tbody tr th {\n",
       "        vertical-align: top;\n",
       "    }\n",
       "\n",
       "    .dataframe thead th {\n",
       "        text-align: right;\n",
       "    }\n",
       "</style>\n",
       "<table border=\"1\" class=\"dataframe\">\n",
       "  <thead>\n",
       "    <tr style=\"text-align: right;\">\n",
       "      <th></th>\n",
       "      <th>Name</th>\n",
       "      <th>Age</th>\n",
       "      <th>Income</th>\n",
       "      <th>CreditHistory</th>\n",
       "      <th>Profession</th>\n",
       "    </tr>\n",
       "  </thead>\n",
       "  <tbody>\n",
       "    <tr>\n",
       "      <th>0</th>\n",
       "      <td>Doug Walters</td>\n",
       "      <td>37.00</td>\n",
       "      <td>100000.0</td>\n",
       "      <td>Good</td>\n",
       "      <td>Programmer</td>\n",
       "    </tr>\n",
       "    <tr>\n",
       "      <th>1</th>\n",
       "      <td>Viv Richards</td>\n",
       "      <td>34.00</td>\n",
       "      <td>112000.0</td>\n",
       "      <td>Good</td>\n",
       "      <td>Data Analyst</td>\n",
       "    </tr>\n",
       "    <tr>\n",
       "      <th>2</th>\n",
       "      <td>Ian Chappell</td>\n",
       "      <td>46.25</td>\n",
       "      <td>101000.0</td>\n",
       "      <td>Good</td>\n",
       "      <td>Data Analyst</td>\n",
       "    </tr>\n",
       "    <tr>\n",
       "      <th>3</th>\n",
       "      <td>Richard Hadlee</td>\n",
       "      <td>53.00</td>\n",
       "      <td>95000.0</td>\n",
       "      <td>Bad</td>\n",
       "      <td>Programmer</td>\n",
       "    </tr>\n",
       "    <tr>\n",
       "      <th>4</th>\n",
       "      <td>Andy Roberts</td>\n",
       "      <td>61.00</td>\n",
       "      <td>99000.0</td>\n",
       "      <td>NaN</td>\n",
       "      <td>Programmer</td>\n",
       "    </tr>\n",
       "  </tbody>\n",
       "</table>\n",
       "</div>"
      ],
      "text/plain": [
       "             Name    Age    Income CreditHistory    Profession\n",
       "0    Doug Walters  37.00  100000.0          Good    Programmer\n",
       "1    Viv Richards  34.00  112000.0          Good  Data Analyst\n",
       "2    Ian Chappell  46.25  101000.0          Good  Data Analyst\n",
       "3  Richard Hadlee  53.00   95000.0           Bad    Programmer\n",
       "4    Andy Roberts  61.00   99000.0           NaN    Programmer"
      ]
     },
     "execution_count": 26,
     "metadata": {},
     "output_type": "execute_result"
    }
   ],
   "source": [
    "#let us use Python's Impute class\n",
    "from sklearn.impute import SimpleImputer\n",
    "imp_mean = SimpleImputer( strategy='mean')\n",
    "imp_mean.fit(customers_df[['Age']])\n",
    "imputed_train_df = imp_mean.transform(customers_df[['Age']])\n",
    "customers_df['Age'] = imputed_train_df\n",
    "customers_df"
   ]
  },
  {
   "cell_type": "code",
   "execution_count": 27,
   "metadata": {},
   "outputs": [
    {
     "data": {
      "text/html": [
       "<div>\n",
       "<style scoped>\n",
       "    .dataframe tbody tr th:only-of-type {\n",
       "        vertical-align: middle;\n",
       "    }\n",
       "\n",
       "    .dataframe tbody tr th {\n",
       "        vertical-align: top;\n",
       "    }\n",
       "\n",
       "    .dataframe thead th {\n",
       "        text-align: right;\n",
       "    }\n",
       "</style>\n",
       "<table border=\"1\" class=\"dataframe\">\n",
       "  <thead>\n",
       "    <tr style=\"text-align: right;\">\n",
       "      <th></th>\n",
       "      <th>Name</th>\n",
       "      <th>Age</th>\n",
       "      <th>Income</th>\n",
       "      <th>CreditHistory_Good</th>\n",
       "      <th>Profession_Programmer</th>\n",
       "    </tr>\n",
       "  </thead>\n",
       "  <tbody>\n",
       "    <tr>\n",
       "      <th>0</th>\n",
       "      <td>Doug Walters</td>\n",
       "      <td>37.0</td>\n",
       "      <td>100000.0</td>\n",
       "      <td>1.0</td>\n",
       "      <td>1</td>\n",
       "    </tr>\n",
       "    <tr>\n",
       "      <th>1</th>\n",
       "      <td>Viv Richards</td>\n",
       "      <td>34.0</td>\n",
       "      <td>112000.0</td>\n",
       "      <td>1.0</td>\n",
       "      <td>0</td>\n",
       "    </tr>\n",
       "    <tr>\n",
       "      <th>2</th>\n",
       "      <td>Ian Chappell</td>\n",
       "      <td>NaN</td>\n",
       "      <td>101000.0</td>\n",
       "      <td>1.0</td>\n",
       "      <td>0</td>\n",
       "    </tr>\n",
       "    <tr>\n",
       "      <th>3</th>\n",
       "      <td>Richard Hadlee</td>\n",
       "      <td>53.0</td>\n",
       "      <td>95000.0</td>\n",
       "      <td>0.0</td>\n",
       "      <td>1</td>\n",
       "    </tr>\n",
       "    <tr>\n",
       "      <th>4</th>\n",
       "      <td>Andy Roberts</td>\n",
       "      <td>61.0</td>\n",
       "      <td>99000.0</td>\n",
       "      <td>NaN</td>\n",
       "      <td>1</td>\n",
       "    </tr>\n",
       "  </tbody>\n",
       "</table>\n",
       "</div>"
      ],
      "text/plain": [
       "             Name   Age    Income  CreditHistory_Good  Profession_Programmer\n",
       "0    Doug Walters  37.0  100000.0                 1.0                      1\n",
       "1    Viv Richards  34.0  112000.0                 1.0                      0\n",
       "2    Ian Chappell   NaN  101000.0                 1.0                      0\n",
       "3  Richard Hadlee  53.0   95000.0                 0.0                      1\n",
       "4    Andy Roberts  61.0   99000.0                 NaN                      1"
      ]
     },
     "execution_count": 27,
     "metadata": {},
     "output_type": "execute_result"
    }
   ],
   "source": [
    "#Let us use a package called impyute to impute a value for age - first reset the age to Nan\n",
    "customers_df.loc[customers_df['Name'] == \"Ian Chappell\", 'Age'] = np.nan\n",
    "#let us convert categorical variables to dummies\n",
    "df = pd.get_dummies(customers_df, columns = ['CreditHistory', 'Profession'], drop_first = True) #this replaces nan with 0\n",
    "df.loc[df['Name'] == 'Andy Roberts','CreditHistory_Good'] = np.nan #setting it back to nan\n",
    "df\n"
   ]
  },
  {
   "cell_type": "code",
   "execution_count": 29,
   "metadata": {},
   "outputs": [
    {
     "name": "stdout",
     "output_type": "stream",
     "text": [
      "Collecting impyute\n",
      "  Using cached impyute-0.0.8-py2.py3-none-any.whl (31 kB)\n",
      "Requirement already satisfied: scipy in /Users/snerur/opt/miniconda3/envs/umap_env/lib/python3.8/site-packages (from impyute) (1.4.1)\n",
      "Requirement already satisfied: scikit-learn in /Users/snerur/opt/miniconda3/envs/umap_env/lib/python3.8/site-packages (from impyute) (0.23.2)\n",
      "Requirement already satisfied: numpy in /Users/snerur/opt/miniconda3/envs/umap_env/lib/python3.8/site-packages (from impyute) (1.20.3)\n",
      "Requirement already satisfied: threadpoolctl>=2.0.0 in /Users/snerur/opt/miniconda3/envs/umap_env/lib/python3.8/site-packages (from scikit-learn->impyute) (2.1.0)\n",
      "Requirement already satisfied: joblib>=0.11 in /Users/snerur/opt/miniconda3/envs/umap_env/lib/python3.8/site-packages (from scikit-learn->impyute) (1.0.1)\n",
      "Installing collected packages: impyute\n",
      "Successfully installed impyute-0.0.8\n"
     ]
    }
   ],
   "source": [
    "!pip install impyute"
   ]
  },
  {
   "cell_type": "code",
   "execution_count": 30,
   "metadata": {},
   "outputs": [
    {
     "data": {
      "text/plain": [
       "array([[37.        ,  1.        ],\n",
       "       [34.        ,  1.        ],\n",
       "       [39.55718088,  1.        ],\n",
       "       [53.        ,  0.        ],\n",
       "       [61.        ,  0.82826807]])"
      ]
     },
     "execution_count": 30,
     "metadata": {},
     "output_type": "execute_result"
    }
   ],
   "source": [
    "import sys\n",
    "from impyute.imputation.cs import fast_knn\n",
    "sys.setrecursionlimit(100000) #Increase the recursion limit of the OS\n",
    "\n",
    "# start the KNN training\n",
    "imputed_training=fast_knn(df[['Age','CreditHistory_Good']].values, k=3)\n",
    "imputed_training"
   ]
  },
  {
   "cell_type": "code",
   "execution_count": 32,
   "metadata": {},
   "outputs": [
    {
     "name": "stdout",
     "output_type": "stream",
     "text": [
      "Collecting fancyimpute\n",
      "  Using cached fancyimpute-0.5.5.tar.gz (20 kB)\n",
      "Collecting knnimpute\n",
      "  Using cached knnimpute-0.1.0.tar.gz (8.3 kB)\n",
      "Requirement already satisfied: numpy>=1.10 in /Users/snerur/opt/miniconda3/envs/umap_env/lib/python3.8/site-packages (from fancyimpute) (1.20.3)\n",
      "Requirement already satisfied: scipy in /Users/snerur/opt/miniconda3/envs/umap_env/lib/python3.8/site-packages (from fancyimpute) (1.4.1)\n",
      "Collecting cvxpy>=1.0.6\n",
      "  Downloading cvxpy-1.1.13-cp38-cp38-macosx_10_9_x86_64.whl (861 kB)\n",
      "\u001b[K     |████████████████████████████████| 861 kB 1.9 MB/s eta 0:00:01\n",
      "\u001b[?25hRequirement already satisfied: scikit-learn>=0.21.2 in /Users/snerur/opt/miniconda3/envs/umap_env/lib/python3.8/site-packages (from fancyimpute) (0.23.2)\n",
      "Requirement already satisfied: keras>=2.0.0 in /Users/snerur/opt/miniconda3/envs/umap_env/lib/python3.8/site-packages (from fancyimpute) (2.4.3)\n",
      "Requirement already satisfied: tensorflow in /Users/snerur/opt/miniconda3/envs/umap_env/lib/python3.8/site-packages (from fancyimpute) (2.2.0)\n",
      "Collecting scs>=1.1.6\n",
      "  Downloading scs-2.1.4.tar.gz (6.6 MB)\n",
      "\u001b[K     |████████████████████████████████| 6.6 MB 25.0 MB/s eta 0:00:01\n",
      "\u001b[?25h  Installing build dependencies ... \u001b[?25ldone\n",
      "\u001b[?25h  Getting requirements to build wheel ... \u001b[?25ldone\n",
      "\u001b[?25h    Preparing wheel metadata ... \u001b[?25ldone\n",
      "\u001b[?25hCollecting ecos>=2\n",
      "  Using cached ecos-2.0.7.post1.tar.gz (126 kB)\n",
      "Collecting osqp>=0.4.1\n",
      "  Downloading osqp-0.6.2.post0-cp38-cp38-macosx_10_9_x86_64.whl (164 kB)\n",
      "\u001b[K     |████████████████████████████████| 164 kB 67.3 MB/s eta 0:00:01\n",
      "\u001b[?25hRequirement already satisfied: h5py in /Users/snerur/opt/miniconda3/envs/umap_env/lib/python3.8/site-packages (from keras>=2.0.0->fancyimpute) (2.10.0)\n",
      "Requirement already satisfied: pyyaml in /Users/snerur/opt/miniconda3/envs/umap_env/lib/python3.8/site-packages (from keras>=2.0.0->fancyimpute) (5.4.1)\n",
      "Collecting qdldl\n",
      "  Downloading qdldl-0.1.5.post0-cp38-cp38-macosx_10_9_x86_64.whl (87 kB)\n",
      "\u001b[K     |████████████████████████████████| 87 kB 9.1 MB/s  eta 0:00:01\n",
      "\u001b[?25hRequirement already satisfied: joblib>=0.11 in /Users/snerur/opt/miniconda3/envs/umap_env/lib/python3.8/site-packages (from scikit-learn>=0.21.2->fancyimpute) (1.0.1)\n",
      "Requirement already satisfied: threadpoolctl>=2.0.0 in /Users/snerur/opt/miniconda3/envs/umap_env/lib/python3.8/site-packages (from scikit-learn>=0.21.2->fancyimpute) (2.1.0)\n",
      "Requirement already satisfied: six in /Users/snerur/opt/miniconda3/envs/umap_env/lib/python3.8/site-packages (from h5py->keras>=2.0.0->fancyimpute) (1.15.0)\n",
      "Requirement already satisfied: grpcio>=1.8.6 in /Users/snerur/opt/miniconda3/envs/umap_env/lib/python3.8/site-packages (from tensorflow->fancyimpute) (1.32.0)\n",
      "Requirement already satisfied: termcolor>=1.1.0 in /Users/snerur/opt/miniconda3/envs/umap_env/lib/python3.8/site-packages (from tensorflow->fancyimpute) (1.1.0)\n",
      "Requirement already satisfied: absl-py>=0.7.0 in /Users/snerur/opt/miniconda3/envs/umap_env/lib/python3.8/site-packages (from tensorflow->fancyimpute) (0.12.0)\n",
      "Requirement already satisfied: protobuf>=3.8.0 in /Users/snerur/opt/miniconda3/envs/umap_env/lib/python3.8/site-packages (from tensorflow->fancyimpute) (3.15.6)\n",
      "Requirement already satisfied: wheel>=0.26 in /Users/snerur/opt/miniconda3/envs/umap_env/lib/python3.8/site-packages (from tensorflow->fancyimpute) (0.36.2)\n",
      "Requirement already satisfied: gast==0.3.3 in /Users/snerur/opt/miniconda3/envs/umap_env/lib/python3.8/site-packages (from tensorflow->fancyimpute) (0.3.3)\n",
      "Requirement already satisfied: astunparse==1.6.3 in /Users/snerur/opt/miniconda3/envs/umap_env/lib/python3.8/site-packages (from tensorflow->fancyimpute) (1.6.3)\n",
      "Requirement already satisfied: tensorboard<2.3.0,>=2.2.0 in /Users/snerur/opt/miniconda3/envs/umap_env/lib/python3.8/site-packages (from tensorflow->fancyimpute) (2.2.2)\n",
      "Requirement already satisfied: wrapt>=1.11.1 in /Users/snerur/opt/miniconda3/envs/umap_env/lib/python3.8/site-packages (from tensorflow->fancyimpute) (1.12.1)\n",
      "Requirement already satisfied: tensorflow-estimator<2.3.0,>=2.2.0 in /Users/snerur/opt/miniconda3/envs/umap_env/lib/python3.8/site-packages (from tensorflow->fancyimpute) (2.2.0)\n",
      "Requirement already satisfied: google-pasta>=0.1.8 in /Users/snerur/opt/miniconda3/envs/umap_env/lib/python3.8/site-packages (from tensorflow->fancyimpute) (0.2.0)\n",
      "Requirement already satisfied: keras-preprocessing>=1.1.0 in /Users/snerur/opt/miniconda3/envs/umap_env/lib/python3.8/site-packages (from tensorflow->fancyimpute) (1.1.2)\n",
      "Requirement already satisfied: opt-einsum>=2.3.2 in /Users/snerur/opt/miniconda3/envs/umap_env/lib/python3.8/site-packages (from tensorflow->fancyimpute) (3.3.0)\n",
      "Requirement already satisfied: markdown>=2.6.8 in /Users/snerur/opt/miniconda3/envs/umap_env/lib/python3.8/site-packages (from tensorboard<2.3.0,>=2.2.0->tensorflow->fancyimpute) (3.3.4)\n",
      "Requirement already satisfied: tensorboard-plugin-wit>=1.6.0 in /Users/snerur/opt/miniconda3/envs/umap_env/lib/python3.8/site-packages (from tensorboard<2.3.0,>=2.2.0->tensorflow->fancyimpute) (1.8.0)\n",
      "Requirement already satisfied: requests<3,>=2.21.0 in /Users/snerur/opt/miniconda3/envs/umap_env/lib/python3.8/site-packages (from tensorboard<2.3.0,>=2.2.0->tensorflow->fancyimpute) (2.25.1)\n",
      "Requirement already satisfied: google-auth<2,>=1.6.3 in /Users/snerur/opt/miniconda3/envs/umap_env/lib/python3.8/site-packages (from tensorboard<2.3.0,>=2.2.0->tensorflow->fancyimpute) (1.28.0)\n",
      "Requirement already satisfied: setuptools>=41.0.0 in /Users/snerur/opt/miniconda3/envs/umap_env/lib/python3.8/site-packages (from tensorboard<2.3.0,>=2.2.0->tensorflow->fancyimpute) (49.6.0.post20210108)\n",
      "Requirement already satisfied: werkzeug>=0.11.15 in /Users/snerur/opt/miniconda3/envs/umap_env/lib/python3.8/site-packages (from tensorboard<2.3.0,>=2.2.0->tensorflow->fancyimpute) (1.0.1)\n",
      "Requirement already satisfied: google-auth-oauthlib<0.5,>=0.4.1 in /Users/snerur/opt/miniconda3/envs/umap_env/lib/python3.8/site-packages (from tensorboard<2.3.0,>=2.2.0->tensorflow->fancyimpute) (0.4.3)\n",
      "Requirement already satisfied: cachetools<5.0,>=2.0.0 in /Users/snerur/opt/miniconda3/envs/umap_env/lib/python3.8/site-packages (from google-auth<2,>=1.6.3->tensorboard<2.3.0,>=2.2.0->tensorflow->fancyimpute) (4.2.1)\n",
      "Requirement already satisfied: rsa<5,>=3.1.4 in /Users/snerur/opt/miniconda3/envs/umap_env/lib/python3.8/site-packages (from google-auth<2,>=1.6.3->tensorboard<2.3.0,>=2.2.0->tensorflow->fancyimpute) (4.7.2)\n",
      "Requirement already satisfied: pyasn1-modules>=0.2.1 in /Users/snerur/opt/miniconda3/envs/umap_env/lib/python3.8/site-packages (from google-auth<2,>=1.6.3->tensorboard<2.3.0,>=2.2.0->tensorflow->fancyimpute) (0.2.8)\n",
      "Requirement already satisfied: requests-oauthlib>=0.7.0 in /Users/snerur/opt/miniconda3/envs/umap_env/lib/python3.8/site-packages (from google-auth-oauthlib<0.5,>=0.4.1->tensorboard<2.3.0,>=2.2.0->tensorflow->fancyimpute) (1.3.0)\n",
      "Requirement already satisfied: pyasn1<0.5.0,>=0.4.6 in /Users/snerur/opt/miniconda3/envs/umap_env/lib/python3.8/site-packages (from pyasn1-modules>=0.2.1->google-auth<2,>=1.6.3->tensorboard<2.3.0,>=2.2.0->tensorflow->fancyimpute) (0.4.8)\n",
      "Requirement already satisfied: urllib3<1.27,>=1.21.1 in /Users/snerur/opt/miniconda3/envs/umap_env/lib/python3.8/site-packages (from requests<3,>=2.21.0->tensorboard<2.3.0,>=2.2.0->tensorflow->fancyimpute) (1.26.4)\n",
      "Requirement already satisfied: idna<3,>=2.5 in /Users/snerur/opt/miniconda3/envs/umap_env/lib/python3.8/site-packages (from requests<3,>=2.21.0->tensorboard<2.3.0,>=2.2.0->tensorflow->fancyimpute) (2.10)\n",
      "Requirement already satisfied: chardet<5,>=3.0.2 in /Users/snerur/opt/miniconda3/envs/umap_env/lib/python3.8/site-packages (from requests<3,>=2.21.0->tensorboard<2.3.0,>=2.2.0->tensorflow->fancyimpute) (3.0.4)\n",
      "Requirement already satisfied: certifi>=2017.4.17 in /Users/snerur/opt/miniconda3/envs/umap_env/lib/python3.8/site-packages (from requests<3,>=2.21.0->tensorboard<2.3.0,>=2.2.0->tensorflow->fancyimpute) (2020.12.5)\n",
      "Requirement already satisfied: oauthlib>=3.0.0 in /Users/snerur/opt/miniconda3/envs/umap_env/lib/python3.8/site-packages (from requests-oauthlib>=0.7.0->google-auth-oauthlib<0.5,>=0.4.1->tensorboard<2.3.0,>=2.2.0->tensorflow->fancyimpute) (3.1.0)\n"
     ]
    },
    {
     "name": "stdout",
     "output_type": "stream",
     "text": [
      "Building wheels for collected packages: fancyimpute, ecos, scs, knnimpute\n",
      "  Building wheel for fancyimpute (setup.py) ... \u001b[?25ldone\n",
      "\u001b[?25h  Created wheel for fancyimpute: filename=fancyimpute-0.5.5-py3-none-any.whl size=26455 sha256=d81eb74002949e5e6afeff0cb06d8c3a410c00ea5a2afeed606ff39b2cfe88cd\n",
      "  Stored in directory: /Users/snerur/Library/Caches/pip/wheels/fc/a1/09/732183800f7c813b6698e5a15bf1b47d52b037ec76d7277aa5\n",
      "  Building wheel for ecos (setup.py) ... \u001b[?25ldone\n",
      "\u001b[?25h  Created wheel for ecos: filename=ecos-2.0.7.post1-cp38-cp38-macosx_10_9_x86_64.whl size=84158 sha256=4f6f5d574f71acb4114eee63e1d231c2a8feaab585abef4f0526bc4dd238700f\n",
      "  Stored in directory: /Users/snerur/Library/Caches/pip/wheels/c3/c1/ce/b551b0b3a40c990e1da2ec9aecff62f7c2d43cab8766368e82\n",
      "  Building wheel for scs (PEP 517) ... \u001b[?25ldone\n",
      "\u001b[?25h  Created wheel for scs: filename=scs-2.1.4-cp38-cp38-macosx_10_13_x86_64.whl size=120632 sha256=e49a67542a6e725ee53043bc3fbedf370c1fdeb70729e61ecf654fb9a27e67e2\n",
      "  Stored in directory: /Users/snerur/Library/Caches/pip/wheels/f9/1b/79/5e399d671778e7a7770bc72053a60cac6c0a2abc3f548cd909\n",
      "  Building wheel for knnimpute (setup.py) ... \u001b[?25ldone\n",
      "\u001b[?25h  Created wheel for knnimpute: filename=knnimpute-0.1.0-py3-none-any.whl size=11354 sha256=365d918992886ef78023b18935a45216fd2ef6d1ecf591c20d43b58546ea2304\n",
      "  Stored in directory: /Users/snerur/Library/Caches/pip/wheels/5f/e9/7a/9969b4e11eb626b45f12a46849b8c65aa718244a243583caf1\n",
      "Successfully built fancyimpute ecos scs knnimpute\n",
      "Installing collected packages: qdldl, scs, osqp, ecos, knnimpute, cvxpy, fancyimpute\n",
      "Successfully installed cvxpy-1.1.13 ecos-2.0.7.post1 fancyimpute-0.5.5 knnimpute-0.1.0 osqp-0.6.2.post0 qdldl-0.1.5.post0 scs-2.1.4\n"
     ]
    }
   ],
   "source": [
    "!pip install fancyimpute"
   ]
  },
  {
   "cell_type": "code",
   "execution_count": 33,
   "metadata": {},
   "outputs": [
    {
     "data": {
      "text/html": [
       "<div>\n",
       "<style scoped>\n",
       "    .dataframe tbody tr th:only-of-type {\n",
       "        vertical-align: middle;\n",
       "    }\n",
       "\n",
       "    .dataframe tbody tr th {\n",
       "        vertical-align: top;\n",
       "    }\n",
       "\n",
       "    .dataframe thead th {\n",
       "        text-align: right;\n",
       "    }\n",
       "</style>\n",
       "<table border=\"1\" class=\"dataframe\">\n",
       "  <thead>\n",
       "    <tr style=\"text-align: right;\">\n",
       "      <th></th>\n",
       "      <th>Name</th>\n",
       "      <th>Age</th>\n",
       "      <th>Income</th>\n",
       "      <th>CreditHistory_Good</th>\n",
       "      <th>Profession_Programmer</th>\n",
       "    </tr>\n",
       "  </thead>\n",
       "  <tbody>\n",
       "    <tr>\n",
       "      <th>0</th>\n",
       "      <td>Doug Walters</td>\n",
       "      <td>37.0</td>\n",
       "      <td>100000.0</td>\n",
       "      <td>1.0</td>\n",
       "      <td>1</td>\n",
       "    </tr>\n",
       "    <tr>\n",
       "      <th>1</th>\n",
       "      <td>Viv Richards</td>\n",
       "      <td>34.0</td>\n",
       "      <td>112000.0</td>\n",
       "      <td>1.0</td>\n",
       "      <td>0</td>\n",
       "    </tr>\n",
       "    <tr>\n",
       "      <th>2</th>\n",
       "      <td>Ian Chappell</td>\n",
       "      <td>NaN</td>\n",
       "      <td>101000.0</td>\n",
       "      <td>1.0</td>\n",
       "      <td>0</td>\n",
       "    </tr>\n",
       "    <tr>\n",
       "      <th>3</th>\n",
       "      <td>Richard Hadlee</td>\n",
       "      <td>53.0</td>\n",
       "      <td>95000.0</td>\n",
       "      <td>0.0</td>\n",
       "      <td>1</td>\n",
       "    </tr>\n",
       "    <tr>\n",
       "      <th>4</th>\n",
       "      <td>Andy Roberts</td>\n",
       "      <td>61.0</td>\n",
       "      <td>99000.0</td>\n",
       "      <td>NaN</td>\n",
       "      <td>1</td>\n",
       "    </tr>\n",
       "  </tbody>\n",
       "</table>\n",
       "</div>"
      ],
      "text/plain": [
       "             Name   Age    Income  CreditHistory_Good  Profession_Programmer\n",
       "0    Doug Walters  37.0  100000.0                 1.0                      1\n",
       "1    Viv Richards  34.0  112000.0                 1.0                      0\n",
       "2    Ian Chappell   NaN  101000.0                 1.0                      0\n",
       "3  Richard Hadlee  53.0   95000.0                 0.0                      1\n",
       "4    Andy Roberts  61.0   99000.0                 NaN                      1"
      ]
     },
     "execution_count": 33,
     "metadata": {},
     "output_type": "execute_result"
    }
   ],
   "source": [
    "from fancyimpute import BiScaler, KNN, NuclearNormMinimization, SoftImpute #pip install fancyimpute\n",
    "df = pd.get_dummies(customers_df, columns = ['CreditHistory', 'Profession'], drop_first = True) #this replaces nan with 0\n",
    "df.loc[df['Name'] == 'Andy Roberts','CreditHistory_Good'] = np.nan #setting it back to nan\n",
    "df"
   ]
  },
  {
   "cell_type": "code",
   "execution_count": 34,
   "metadata": {},
   "outputs": [
    {
     "name": "stdout",
     "output_type": "stream",
     "text": [
      "Imputing row 1/5 with 0 missing, elapsed time: 0.001\n"
     ]
    },
    {
     "data": {
      "text/html": [
       "<div>\n",
       "<style scoped>\n",
       "    .dataframe tbody tr th:only-of-type {\n",
       "        vertical-align: middle;\n",
       "    }\n",
       "\n",
       "    .dataframe tbody tr th {\n",
       "        vertical-align: top;\n",
       "    }\n",
       "\n",
       "    .dataframe thead th {\n",
       "        text-align: right;\n",
       "    }\n",
       "</style>\n",
       "<table border=\"1\" class=\"dataframe\">\n",
       "  <thead>\n",
       "    <tr style=\"text-align: right;\">\n",
       "      <th></th>\n",
       "      <th>Age</th>\n",
       "      <th>Income</th>\n",
       "      <th>CreditHistory_Good</th>\n",
       "      <th>Profession_Programmer</th>\n",
       "    </tr>\n",
       "  </thead>\n",
       "  <tbody>\n",
       "    <tr>\n",
       "      <th>0</th>\n",
       "      <td>37.000000</td>\n",
       "      <td>100000.0</td>\n",
       "      <td>1.000000</td>\n",
       "      <td>1.0</td>\n",
       "    </tr>\n",
       "    <tr>\n",
       "      <th>1</th>\n",
       "      <td>34.000000</td>\n",
       "      <td>112000.0</td>\n",
       "      <td>1.000000</td>\n",
       "      <td>0.0</td>\n",
       "    </tr>\n",
       "    <tr>\n",
       "      <th>2</th>\n",
       "      <td>40.720932</td>\n",
       "      <td>101000.0</td>\n",
       "      <td>1.000000</td>\n",
       "      <td>0.0</td>\n",
       "    </tr>\n",
       "    <tr>\n",
       "      <th>3</th>\n",
       "      <td>53.000000</td>\n",
       "      <td>95000.0</td>\n",
       "      <td>0.000000</td>\n",
       "      <td>1.0</td>\n",
       "    </tr>\n",
       "    <tr>\n",
       "      <th>4</th>\n",
       "      <td>61.000000</td>\n",
       "      <td>99000.0</td>\n",
       "      <td>0.949129</td>\n",
       "      <td>1.0</td>\n",
       "    </tr>\n",
       "  </tbody>\n",
       "</table>\n",
       "</div>"
      ],
      "text/plain": [
       "         Age    Income  CreditHistory_Good  Profession_Programmer\n",
       "0  37.000000  100000.0            1.000000                    1.0\n",
       "1  34.000000  112000.0            1.000000                    0.0\n",
       "2  40.720932  101000.0            1.000000                    0.0\n",
       "3  53.000000   95000.0            0.000000                    1.0\n",
       "4  61.000000   99000.0            0.949129                    1.0"
      ]
     },
     "execution_count": 34,
     "metadata": {},
     "output_type": "execute_result"
    }
   ],
   "source": [
    "nan_matrix = df[['Age','Income','CreditHistory_Good','Profession_Programmer']]\n",
    "new_matrix = KNN(k=3).fit_transform(nan_matrix)\n",
    "pd.DataFrame(new_matrix, columns = ['Age','Income','CreditHistory_Good','Profession_Programmer'] )"
   ]
  },
  {
   "cell_type": "code",
   "execution_count": 35,
   "metadata": {},
   "outputs": [
    {
     "data": {
      "text/plain": [
       "array([[37.        ,  1.        ],\n",
       "       [34.        ,  1.        ],\n",
       "       [35.47095058,  1.        ],\n",
       "       [53.        ,  0.        ],\n",
       "       [61.        , -0.43372152]])"
      ]
     },
     "execution_count": 35,
     "metadata": {},
     "output_type": "execute_result"
    }
   ],
   "source": [
    "#Let us try MICE - Multiple Imputation by Chained Equations\n",
    "from impyute.imputation.cs import mice\n",
    "\n",
    "# start the MICE training\n",
    "imputed_training=mice(df[['Age','CreditHistory_Good']].values)\n",
    "imputed_training"
   ]
  },
  {
   "cell_type": "code",
   "execution_count": 38,
   "metadata": {},
   "outputs": [
    {
     "name": "stdout",
     "output_type": "stream",
     "text": [
      "Collecting yfinance\n",
      "  Downloading yfinance-0.1.59.tar.gz (25 kB)\n",
      "Requirement already satisfied: pandas>=0.24 in /Users/snerur/opt/miniconda3/envs/umap_env/lib/python3.8/site-packages (from yfinance) (1.2.3)\n",
      "Requirement already satisfied: numpy>=1.15 in /Users/snerur/opt/miniconda3/envs/umap_env/lib/python3.8/site-packages (from yfinance) (1.20.3)\n",
      "Requirement already satisfied: requests>=2.20 in /Users/snerur/opt/miniconda3/envs/umap_env/lib/python3.8/site-packages (from yfinance) (2.25.1)\n",
      "Requirement already satisfied: multitasking>=0.0.7 in /Users/snerur/opt/miniconda3/envs/umap_env/lib/python3.8/site-packages (from yfinance) (0.0.9)\n",
      "Collecting lxml>=4.5.1\n",
      "  Downloading lxml-4.6.3-cp38-cp38-macosx_10_9_x86_64.whl (4.6 MB)\n",
      "\u001b[K     |████████████████████████████████| 4.6 MB 2.0 MB/s eta 0:00:01\n",
      "\u001b[?25hRequirement already satisfied: python-dateutil>=2.7.3 in /Users/snerur/opt/miniconda3/envs/umap_env/lib/python3.8/site-packages (from pandas>=0.24->yfinance) (2.8.1)\n",
      "Requirement already satisfied: pytz>=2017.3 in /Users/snerur/opt/miniconda3/envs/umap_env/lib/python3.8/site-packages (from pandas>=0.24->yfinance) (2021.1)\n",
      "Requirement already satisfied: six>=1.5 in /Users/snerur/opt/miniconda3/envs/umap_env/lib/python3.8/site-packages (from python-dateutil>=2.7.3->pandas>=0.24->yfinance) (1.15.0)\n",
      "Requirement already satisfied: idna<3,>=2.5 in /Users/snerur/opt/miniconda3/envs/umap_env/lib/python3.8/site-packages (from requests>=2.20->yfinance) (2.10)\n",
      "Requirement already satisfied: urllib3<1.27,>=1.21.1 in /Users/snerur/opt/miniconda3/envs/umap_env/lib/python3.8/site-packages (from requests>=2.20->yfinance) (1.26.4)\n",
      "Requirement already satisfied: certifi>=2017.4.17 in /Users/snerur/opt/miniconda3/envs/umap_env/lib/python3.8/site-packages (from requests>=2.20->yfinance) (2020.12.5)\n",
      "Requirement already satisfied: chardet<5,>=3.0.2 in /Users/snerur/opt/miniconda3/envs/umap_env/lib/python3.8/site-packages (from requests>=2.20->yfinance) (3.0.4)\n",
      "Building wheels for collected packages: yfinance\n",
      "  Building wheel for yfinance (setup.py) ... \u001b[?25ldone\n",
      "\u001b[?25h  Created wheel for yfinance: filename=yfinance-0.1.59-py2.py3-none-any.whl size=23442 sha256=d23d13b2a84debfe294f9c416ab195fc1aaededf27d18942733d91b9bacdf65b\n",
      "  Stored in directory: /Users/snerur/Library/Caches/pip/wheels/7e/d5/f4/f628965651f61ae35c2bdc73571ce1a2026e1550a336b5ad4b\n",
      "Successfully built yfinance\n",
      "Installing collected packages: lxml, yfinance\n",
      "Successfully installed lxml-4.6.3 yfinance-0.1.59\n"
     ]
    }
   ],
   "source": [
    "!pip install yfinance"
   ]
  },
  {
   "cell_type": "code",
   "execution_count": 39,
   "metadata": {},
   "outputs": [
    {
     "name": "stdout",
     "output_type": "stream",
     "text": [
      "[*********************100%***********************]  1 of 1 completed\n"
     ]
    },
    {
     "data": {
      "text/html": [
       "<div>\n",
       "<style scoped>\n",
       "    .dataframe tbody tr th:only-of-type {\n",
       "        vertical-align: middle;\n",
       "    }\n",
       "\n",
       "    .dataframe tbody tr th {\n",
       "        vertical-align: top;\n",
       "    }\n",
       "\n",
       "    .dataframe thead th {\n",
       "        text-align: right;\n",
       "    }\n",
       "</style>\n",
       "<table border=\"1\" class=\"dataframe\">\n",
       "  <thead>\n",
       "    <tr style=\"text-align: right;\">\n",
       "      <th></th>\n",
       "      <th>Open</th>\n",
       "      <th>High</th>\n",
       "      <th>Low</th>\n",
       "      <th>Close</th>\n",
       "      <th>Adj Close</th>\n",
       "      <th>Volume</th>\n",
       "    </tr>\n",
       "    <tr>\n",
       "      <th>Date</th>\n",
       "      <th></th>\n",
       "      <th></th>\n",
       "      <th></th>\n",
       "      <th></th>\n",
       "      <th></th>\n",
       "      <th></th>\n",
       "    </tr>\n",
       "  </thead>\n",
       "  <tbody>\n",
       "    <tr>\n",
       "      <th>2018-03-01</th>\n",
       "      <td>44.634998</td>\n",
       "      <td>44.945000</td>\n",
       "      <td>43.165001</td>\n",
       "      <td>43.750000</td>\n",
       "      <td>42.138268</td>\n",
       "      <td>195208000</td>\n",
       "    </tr>\n",
       "    <tr>\n",
       "      <th>2018-03-02</th>\n",
       "      <td>43.200001</td>\n",
       "      <td>44.075001</td>\n",
       "      <td>43.112499</td>\n",
       "      <td>44.052502</td>\n",
       "      <td>42.429626</td>\n",
       "      <td>153816000</td>\n",
       "    </tr>\n",
       "    <tr>\n",
       "      <th>2018-03-05</th>\n",
       "      <td>43.802502</td>\n",
       "      <td>44.435001</td>\n",
       "      <td>43.630001</td>\n",
       "      <td>44.205002</td>\n",
       "      <td>42.576511</td>\n",
       "      <td>113605600</td>\n",
       "    </tr>\n",
       "    <tr>\n",
       "      <th>2018-03-06</th>\n",
       "      <td>44.477501</td>\n",
       "      <td>44.562500</td>\n",
       "      <td>44.032501</td>\n",
       "      <td>44.167500</td>\n",
       "      <td>42.540394</td>\n",
       "      <td>95154000</td>\n",
       "    </tr>\n",
       "    <tr>\n",
       "      <th>2018-03-07</th>\n",
       "      <td>43.735001</td>\n",
       "      <td>43.962502</td>\n",
       "      <td>43.567501</td>\n",
       "      <td>43.757500</td>\n",
       "      <td>42.145489</td>\n",
       "      <td>126814000</td>\n",
       "    </tr>\n",
       "    <tr>\n",
       "      <th>2018-03-08</th>\n",
       "      <td>43.869999</td>\n",
       "      <td>44.279999</td>\n",
       "      <td>43.767502</td>\n",
       "      <td>44.235001</td>\n",
       "      <td>42.605404</td>\n",
       "      <td>95096400</td>\n",
       "    </tr>\n",
       "    <tr>\n",
       "      <th>2018-03-09</th>\n",
       "      <td>44.490002</td>\n",
       "      <td>45.000000</td>\n",
       "      <td>44.347500</td>\n",
       "      <td>44.994999</td>\n",
       "      <td>43.337402</td>\n",
       "      <td>128740800</td>\n",
       "    </tr>\n",
       "    <tr>\n",
       "      <th>2018-03-12</th>\n",
       "      <td>45.072498</td>\n",
       "      <td>45.597500</td>\n",
       "      <td>45.052502</td>\n",
       "      <td>45.430000</td>\n",
       "      <td>43.756374</td>\n",
       "      <td>128828400</td>\n",
       "    </tr>\n",
       "    <tr>\n",
       "      <th>2018-03-13</th>\n",
       "      <td>45.647499</td>\n",
       "      <td>45.875000</td>\n",
       "      <td>44.810001</td>\n",
       "      <td>44.992500</td>\n",
       "      <td>43.334995</td>\n",
       "      <td>126774000</td>\n",
       "    </tr>\n",
       "    <tr>\n",
       "      <th>2018-03-14</th>\n",
       "      <td>45.080002</td>\n",
       "      <td>45.130001</td>\n",
       "      <td>44.452499</td>\n",
       "      <td>44.610001</td>\n",
       "      <td>42.966583</td>\n",
       "      <td>117473600</td>\n",
       "    </tr>\n",
       "    <tr>\n",
       "      <th>2018-03-15</th>\n",
       "      <td>44.625000</td>\n",
       "      <td>45.060001</td>\n",
       "      <td>44.517502</td>\n",
       "      <td>44.662498</td>\n",
       "      <td>43.017151</td>\n",
       "      <td>90975200</td>\n",
       "    </tr>\n",
       "    <tr>\n",
       "      <th>2018-03-16</th>\n",
       "      <td>44.662498</td>\n",
       "      <td>44.779999</td>\n",
       "      <td>44.404999</td>\n",
       "      <td>44.505001</td>\n",
       "      <td>42.865456</td>\n",
       "      <td>157618800</td>\n",
       "    </tr>\n",
       "    <tr>\n",
       "      <th>2018-03-19</th>\n",
       "      <td>44.330002</td>\n",
       "      <td>44.367500</td>\n",
       "      <td>43.415001</td>\n",
       "      <td>43.825001</td>\n",
       "      <td>42.210503</td>\n",
       "      <td>133787200</td>\n",
       "    </tr>\n",
       "    <tr>\n",
       "      <th>2018-03-20</th>\n",
       "      <td>43.810001</td>\n",
       "      <td>44.200001</td>\n",
       "      <td>43.735001</td>\n",
       "      <td>43.810001</td>\n",
       "      <td>42.196060</td>\n",
       "      <td>78597600</td>\n",
       "    </tr>\n",
       "    <tr>\n",
       "      <th>2018-03-21</th>\n",
       "      <td>43.759998</td>\n",
       "      <td>43.772499</td>\n",
       "      <td>42.814999</td>\n",
       "      <td>42.817501</td>\n",
       "      <td>41.240124</td>\n",
       "      <td>148219600</td>\n",
       "    </tr>\n",
       "    <tr>\n",
       "      <th>2018-03-22</th>\n",
       "      <td>42.500000</td>\n",
       "      <td>43.169998</td>\n",
       "      <td>42.150002</td>\n",
       "      <td>42.212502</td>\n",
       "      <td>40.657410</td>\n",
       "      <td>165963200</td>\n",
       "    </tr>\n",
       "    <tr>\n",
       "      <th>2018-03-23</th>\n",
       "      <td>42.097500</td>\n",
       "      <td>42.480000</td>\n",
       "      <td>41.235001</td>\n",
       "      <td>41.235001</td>\n",
       "      <td>39.715919</td>\n",
       "      <td>164115200</td>\n",
       "    </tr>\n",
       "    <tr>\n",
       "      <th>2018-03-26</th>\n",
       "      <td>42.017502</td>\n",
       "      <td>43.275002</td>\n",
       "      <td>41.610001</td>\n",
       "      <td>43.192501</td>\n",
       "      <td>41.601311</td>\n",
       "      <td>150164800</td>\n",
       "    </tr>\n",
       "    <tr>\n",
       "      <th>2018-03-27</th>\n",
       "      <td>43.419998</td>\n",
       "      <td>43.787498</td>\n",
       "      <td>41.730000</td>\n",
       "      <td>42.084999</td>\n",
       "      <td>40.534599</td>\n",
       "      <td>163690400</td>\n",
       "    </tr>\n",
       "    <tr>\n",
       "      <th>2018-03-28</th>\n",
       "      <td>41.812500</td>\n",
       "      <td>42.505001</td>\n",
       "      <td>41.297501</td>\n",
       "      <td>41.619999</td>\n",
       "      <td>40.086735</td>\n",
       "      <td>166674000</td>\n",
       "    </tr>\n",
       "    <tr>\n",
       "      <th>2018-03-29</th>\n",
       "      <td>41.952499</td>\n",
       "      <td>42.937500</td>\n",
       "      <td>41.724998</td>\n",
       "      <td>41.945000</td>\n",
       "      <td>40.399765</td>\n",
       "      <td>153594000</td>\n",
       "    </tr>\n",
       "    <tr>\n",
       "      <th>2018-04-02</th>\n",
       "      <td>41.660000</td>\n",
       "      <td>42.235001</td>\n",
       "      <td>41.117500</td>\n",
       "      <td>41.669998</td>\n",
       "      <td>40.134899</td>\n",
       "      <td>150347200</td>\n",
       "    </tr>\n",
       "    <tr>\n",
       "      <th>2018-04-03</th>\n",
       "      <td>41.910000</td>\n",
       "      <td>42.187500</td>\n",
       "      <td>41.220001</td>\n",
       "      <td>42.097500</td>\n",
       "      <td>40.546650</td>\n",
       "      <td>121112000</td>\n",
       "    </tr>\n",
       "    <tr>\n",
       "      <th>2018-04-04</th>\n",
       "      <td>41.220001</td>\n",
       "      <td>43.002499</td>\n",
       "      <td>41.192501</td>\n",
       "      <td>42.902500</td>\n",
       "      <td>41.321991</td>\n",
       "      <td>138422000</td>\n",
       "    </tr>\n",
       "    <tr>\n",
       "      <th>2018-04-05</th>\n",
       "      <td>43.145000</td>\n",
       "      <td>43.557499</td>\n",
       "      <td>43.020000</td>\n",
       "      <td>43.200001</td>\n",
       "      <td>41.608532</td>\n",
       "      <td>107732800</td>\n",
       "    </tr>\n",
       "    <tr>\n",
       "      <th>2018-04-06</th>\n",
       "      <td>42.742500</td>\n",
       "      <td>43.119999</td>\n",
       "      <td>42.049999</td>\n",
       "      <td>42.095001</td>\n",
       "      <td>40.544247</td>\n",
       "      <td>140021200</td>\n",
       "    </tr>\n",
       "    <tr>\n",
       "      <th>2018-04-09</th>\n",
       "      <td>42.470001</td>\n",
       "      <td>43.272499</td>\n",
       "      <td>42.462502</td>\n",
       "      <td>42.512501</td>\n",
       "      <td>40.946358</td>\n",
       "      <td>116070800</td>\n",
       "    </tr>\n",
       "    <tr>\n",
       "      <th>2018-04-10</th>\n",
       "      <td>43.250000</td>\n",
       "      <td>43.500000</td>\n",
       "      <td>42.882500</td>\n",
       "      <td>43.312500</td>\n",
       "      <td>41.716892</td>\n",
       "      <td>113634400</td>\n",
       "    </tr>\n",
       "    <tr>\n",
       "      <th>2018-04-11</th>\n",
       "      <td>43.057499</td>\n",
       "      <td>43.480000</td>\n",
       "      <td>42.924999</td>\n",
       "      <td>43.110001</td>\n",
       "      <td>41.521843</td>\n",
       "      <td>89726400</td>\n",
       "    </tr>\n",
       "    <tr>\n",
       "      <th>2018-04-12</th>\n",
       "      <td>43.352501</td>\n",
       "      <td>43.750000</td>\n",
       "      <td>43.259998</td>\n",
       "      <td>43.535000</td>\n",
       "      <td>41.931190</td>\n",
       "      <td>91557200</td>\n",
       "    </tr>\n",
       "    <tr>\n",
       "      <th>2018-04-13</th>\n",
       "      <td>43.695000</td>\n",
       "      <td>43.959999</td>\n",
       "      <td>43.462502</td>\n",
       "      <td>43.682499</td>\n",
       "      <td>42.073257</td>\n",
       "      <td>100497200</td>\n",
       "    </tr>\n",
       "  </tbody>\n",
       "</table>\n",
       "</div>"
      ],
      "text/plain": [
       "                 Open       High        Low      Close  Adj Close     Volume\n",
       "Date                                                                        \n",
       "2018-03-01  44.634998  44.945000  43.165001  43.750000  42.138268  195208000\n",
       "2018-03-02  43.200001  44.075001  43.112499  44.052502  42.429626  153816000\n",
       "2018-03-05  43.802502  44.435001  43.630001  44.205002  42.576511  113605600\n",
       "2018-03-06  44.477501  44.562500  44.032501  44.167500  42.540394   95154000\n",
       "2018-03-07  43.735001  43.962502  43.567501  43.757500  42.145489  126814000\n",
       "2018-03-08  43.869999  44.279999  43.767502  44.235001  42.605404   95096400\n",
       "2018-03-09  44.490002  45.000000  44.347500  44.994999  43.337402  128740800\n",
       "2018-03-12  45.072498  45.597500  45.052502  45.430000  43.756374  128828400\n",
       "2018-03-13  45.647499  45.875000  44.810001  44.992500  43.334995  126774000\n",
       "2018-03-14  45.080002  45.130001  44.452499  44.610001  42.966583  117473600\n",
       "2018-03-15  44.625000  45.060001  44.517502  44.662498  43.017151   90975200\n",
       "2018-03-16  44.662498  44.779999  44.404999  44.505001  42.865456  157618800\n",
       "2018-03-19  44.330002  44.367500  43.415001  43.825001  42.210503  133787200\n",
       "2018-03-20  43.810001  44.200001  43.735001  43.810001  42.196060   78597600\n",
       "2018-03-21  43.759998  43.772499  42.814999  42.817501  41.240124  148219600\n",
       "2018-03-22  42.500000  43.169998  42.150002  42.212502  40.657410  165963200\n",
       "2018-03-23  42.097500  42.480000  41.235001  41.235001  39.715919  164115200\n",
       "2018-03-26  42.017502  43.275002  41.610001  43.192501  41.601311  150164800\n",
       "2018-03-27  43.419998  43.787498  41.730000  42.084999  40.534599  163690400\n",
       "2018-03-28  41.812500  42.505001  41.297501  41.619999  40.086735  166674000\n",
       "2018-03-29  41.952499  42.937500  41.724998  41.945000  40.399765  153594000\n",
       "2018-04-02  41.660000  42.235001  41.117500  41.669998  40.134899  150347200\n",
       "2018-04-03  41.910000  42.187500  41.220001  42.097500  40.546650  121112000\n",
       "2018-04-04  41.220001  43.002499  41.192501  42.902500  41.321991  138422000\n",
       "2018-04-05  43.145000  43.557499  43.020000  43.200001  41.608532  107732800\n",
       "2018-04-06  42.742500  43.119999  42.049999  42.095001  40.544247  140021200\n",
       "2018-04-09  42.470001  43.272499  42.462502  42.512501  40.946358  116070800\n",
       "2018-04-10  43.250000  43.500000  42.882500  43.312500  41.716892  113634400\n",
       "2018-04-11  43.057499  43.480000  42.924999  43.110001  41.521843   89726400\n",
       "2018-04-12  43.352501  43.750000  43.259998  43.535000  41.931190   91557200\n",
       "2018-04-13  43.695000  43.959999  43.462502  43.682499  42.073257  100497200"
      ]
     },
     "execution_count": 39,
     "metadata": {},
     "output_type": "execute_result"
    }
   ],
   "source": [
    "import yfinance as yf #pip install fix_yahoo_finance\n",
    "import matplotlib.pyplot as plt\n",
    "start_date = '2018-01-01'\n",
    "end_date = '2018-04-15'\n",
    "data = yf.download(\"AAPL\", start=start_date, end=end_date)\n",
    "data.loc['2018-Mar':'2018-Apr', :] #slice by date"
   ]
  },
  {
   "cell_type": "code",
   "execution_count": 40,
   "metadata": {},
   "outputs": [
    {
     "data": {
      "image/png": "[encoded data removed]",
      "text/plain": [
       "<Figure size 432x288 with 1 Axes>"
      ]
     },
     "metadata": {
      "needs_background": "light"
     },
     "output_type": "display_data"
    }
   ],
   "source": [
    "data['Adj Close'].plot()\n",
    "plt.show()"
   ]
  },
  {
   "cell_type": "code",
   "execution_count": 41,
   "metadata": {},
   "outputs": [
    {
     "data": {
      "text/html": [
       "<div>\n",
       "<style scoped>\n",
       "    .dataframe tbody tr th:only-of-type {\n",
       "        vertical-align: middle;\n",
       "    }\n",
       "\n",
       "    .dataframe tbody tr th {\n",
       "        vertical-align: top;\n",
       "    }\n",
       "\n",
       "    .dataframe thead th {\n",
       "        text-align: right;\n",
       "    }\n",
       "</style>\n",
       "<table border=\"1\" class=\"dataframe\">\n",
       "  <thead>\n",
       "    <tr style=\"text-align: right;\">\n",
       "      <th></th>\n",
       "      <th>pclass</th>\n",
       "      <th>survived</th>\n",
       "      <th>name</th>\n",
       "      <th>sex</th>\n",
       "      <th>age</th>\n",
       "      <th>sibsp</th>\n",
       "      <th>parch</th>\n",
       "      <th>ticket</th>\n",
       "      <th>fare</th>\n",
       "      <th>cabin</th>\n",
       "      <th>embarked</th>\n",
       "      <th>boat</th>\n",
       "      <th>body</th>\n",
       "      <th>home.dest</th>\n",
       "    </tr>\n",
       "  </thead>\n",
       "  <tbody>\n",
       "    <tr>\n",
       "      <th>0</th>\n",
       "      <td>1</td>\n",
       "      <td>1</td>\n",
       "      <td>Allen, Miss. Elisabeth Walton</td>\n",
       "      <td>female</td>\n",
       "      <td>29.00</td>\n",
       "      <td>0</td>\n",
       "      <td>0</td>\n",
       "      <td>24160</td>\n",
       "      <td>211.3375</td>\n",
       "      <td>B5</td>\n",
       "      <td>S</td>\n",
       "      <td>2</td>\n",
       "      <td>NaN</td>\n",
       "      <td>St Louis, MO</td>\n",
       "    </tr>\n",
       "    <tr>\n",
       "      <th>1</th>\n",
       "      <td>1</td>\n",
       "      <td>1</td>\n",
       "      <td>Allison, Master. Hudson Trevor</td>\n",
       "      <td>male</td>\n",
       "      <td>0.92</td>\n",
       "      <td>1</td>\n",
       "      <td>2</td>\n",
       "      <td>113781</td>\n",
       "      <td>151.5500</td>\n",
       "      <td>C22 C26</td>\n",
       "      <td>S</td>\n",
       "      <td>11</td>\n",
       "      <td>NaN</td>\n",
       "      <td>Montreal, PQ / Chesterville, ON</td>\n",
       "    </tr>\n",
       "    <tr>\n",
       "      <th>2</th>\n",
       "      <td>1</td>\n",
       "      <td>0</td>\n",
       "      <td>Allison, Miss. Helen Loraine</td>\n",
       "      <td>female</td>\n",
       "      <td>2.00</td>\n",
       "      <td>1</td>\n",
       "      <td>2</td>\n",
       "      <td>113781</td>\n",
       "      <td>151.5500</td>\n",
       "      <td>C22 C26</td>\n",
       "      <td>S</td>\n",
       "      <td>NaN</td>\n",
       "      <td>NaN</td>\n",
       "      <td>Montreal, PQ / Chesterville, ON</td>\n",
       "    </tr>\n",
       "    <tr>\n",
       "      <th>3</th>\n",
       "      <td>1</td>\n",
       "      <td>0</td>\n",
       "      <td>Allison, Mr. Hudson Joshua Creighton</td>\n",
       "      <td>male</td>\n",
       "      <td>30.00</td>\n",
       "      <td>1</td>\n",
       "      <td>2</td>\n",
       "      <td>113781</td>\n",
       "      <td>151.5500</td>\n",
       "      <td>C22 C26</td>\n",
       "      <td>S</td>\n",
       "      <td>NaN</td>\n",
       "      <td>135.0</td>\n",
       "      <td>Montreal, PQ / Chesterville, ON</td>\n",
       "    </tr>\n",
       "    <tr>\n",
       "      <th>4</th>\n",
       "      <td>1</td>\n",
       "      <td>0</td>\n",
       "      <td>Allison, Mrs. Hudson J C (Bessie Waldo Daniels)</td>\n",
       "      <td>female</td>\n",
       "      <td>25.00</td>\n",
       "      <td>1</td>\n",
       "      <td>2</td>\n",
       "      <td>113781</td>\n",
       "      <td>151.5500</td>\n",
       "      <td>C22 C26</td>\n",
       "      <td>S</td>\n",
       "      <td>NaN</td>\n",
       "      <td>NaN</td>\n",
       "      <td>Montreal, PQ / Chesterville, ON</td>\n",
       "    </tr>\n",
       "  </tbody>\n",
       "</table>\n",
       "</div>"
      ],
      "text/plain": [
       "   pclass  survived                                             name     sex  \\\n",
       "0       1         1                    Allen, Miss. Elisabeth Walton  female   \n",
       "1       1         1                   Allison, Master. Hudson Trevor    male   \n",
       "2       1         0                     Allison, Miss. Helen Loraine  female   \n",
       "3       1         0             Allison, Mr. Hudson Joshua Creighton    male   \n",
       "4       1         0  Allison, Mrs. Hudson J C (Bessie Waldo Daniels)  female   \n",
       "\n",
       "     age  sibsp  parch  ticket      fare    cabin embarked boat   body  \\\n",
       "0  29.00      0      0   24160  211.3375       B5        S    2    NaN   \n",
       "1   0.92      1      2  113781  151.5500  C22 C26        S   11    NaN   \n",
       "2   2.00      1      2  113781  151.5500  C22 C26        S  NaN    NaN   \n",
       "3  30.00      1      2  113781  151.5500  C22 C26        S  NaN  135.0   \n",
       "4  25.00      1      2  113781  151.5500  C22 C26        S  NaN    NaN   \n",
       "\n",
       "                         home.dest  \n",
       "0                     St Louis, MO  \n",
       "1  Montreal, PQ / Chesterville, ON  \n",
       "2  Montreal, PQ / Chesterville, ON  \n",
       "3  Montreal, PQ / Chesterville, ON  \n",
       "4  Montreal, PQ / Chesterville, ON  "
      ]
     },
     "execution_count": 41,
     "metadata": {},
     "output_type": "execute_result"
    }
   ],
   "source": [
    "#reading datasets from a link - let us read in the titanic dataset\n",
    "titanic_df = pd.read_csv(\"https://assets.datacamp.com/production/course_1639/datasets/titanic.csv\")\n",
    "titanic_df.head()"
   ]
  },
  {
   "cell_type": "code",
   "execution_count": 42,
   "metadata": {},
   "outputs": [
    {
     "data": {
      "text/plain": [
       "3    709\n",
       "1    323\n",
       "2    277\n",
       "Name: pclass, dtype: int64"
      ]
     },
     "execution_count": 42,
     "metadata": {},
     "output_type": "execute_result"
    }
   ],
   "source": [
    "#how many classes did the ship have [e.g., first class]\n",
    "titanic_df['pclass'].value_counts()"
   ]
  },
  {
   "cell_type": "code",
   "execution_count": 43,
   "metadata": {},
   "outputs": [
    {
     "data": {
      "text/plain": [
       "pclass  survived\n",
       "1       1           200\n",
       "        0           123\n",
       "2       0           158\n",
       "        1           119\n",
       "3       0           528\n",
       "        1           181\n",
       "Name: survived, dtype: int64"
      ]
     },
     "execution_count": 43,
     "metadata": {},
     "output_type": "execute_result"
    }
   ],
   "source": [
    "#how many survived from each class?\n",
    "survival_by_class = titanic_df.groupby('pclass')['survived'].value_counts()\n",
    "survival_by_class"
   ]
  },
  {
   "cell_type": "markdown",
   "metadata": {},
   "source": [
    "This is the end of the tutorial. Note that this is by no means a complete coverage of the capabilties of Pandas. Be sure to read Wes "
   ]
  }
 ],
 "metadata": {
  "kernelspec": {
   "display_name": "Python 3",
   "language": "python",
   "name": "python3"
  },
  "language_info": {
   "codemirror_mode": {
    "name": "ipython",
    "version": 3
   },
   "file_extension": ".py",
   "mimetype": "text/x-python",
   "name": "python",
   "nbconvert_exporter": "python",
   "pygments_lexer": "ipython3",
   "version": "3.8.8"
  }
 },
 "nbformat": 4,
 "nbformat_minor": 2
}
